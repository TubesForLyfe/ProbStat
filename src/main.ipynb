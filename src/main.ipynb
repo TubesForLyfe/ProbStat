{
 "cells": [
  {
   "cell_type": "markdown",
   "metadata": {},
   "source": [
    "# Tugas Besar IF2220 Probabilitas dan Statistika\n",
    "## **Penarikan Kesimpulan dan Pengujian Hipotesis**\n",
    "\n",
    "### Kelas: K01\n",
    "### Dibuat oleh:\n",
    "1. Nelsen Putra - 13520130\n",
    "2. Willy Wilsen - 13520160\n",
    "\n",
    "### Tujuan\n",
    "- Mahasiswa memahami dan dapat menyelesaikan persoalan distribusi peluang variabel random diskrit dan kontinu.\n",
    "- Mahasiswa mampu menyelesaikan persoalan untuk menarik kesimpulan mengenai parameter populasi yang diperoleh dari data hasil eksperimen.\n",
    "- Mahasiswa mampu menyelesaikan persoalan pengujian hipotesis.\n",
    "### Deskripsi Tugas\n",
    "Diberikan sebuah data water_potability.csv yang dapat diakses pada Dataset Tugas Besar IF2220. water_potability.csv merupakan data metrik kualitas air yang mengandung 11 kolom sebagai berikut:\n",
    "1. id\n",
    "2. pH\n",
    "3. Hardness\n",
    "4. Solids\n",
    "5. Chloramines\n",
    "6. Sulfate\n",
    "7. Conductivity\n",
    "8. OrganicCarbon\n",
    "9. Trihalomethanes\n",
    "10. Turbidity\n",
    "11. Potability\n",
    "\n",
    "Kolom 2-10 adalah kolom atribut (non-target), sedangkan kolom 11 adalah kolom target.\n",
    "Kelompok diminta untuk melakukan analisis statistika sebagai berikut:"
   ]
  },
  {
   "cell_type": "markdown",
   "metadata": {},
   "source": [
    "## Tahap 0 - Persiapan\n",
    "\n",
    "### Import Library"
   ]
  },
  {
   "cell_type": "code",
   "execution_count": 1,
   "metadata": {},
   "outputs": [],
   "source": [
    "import pandas as pd\n",
    "from pandas.plotting import scatter_matrix\n",
    "import numpy as np\n",
    "import scipy\n",
    "from scipy import stats as st\n",
    "import matplotlib.mlab as mlab\n",
    "import matplotlib.pyplot as plt\n",
    "import seaborn as sns"
   ]
  },
  {
   "cell_type": "markdown",
   "metadata": {},
   "source": [
    "### Pembacaan Data water_potability.csv\n",
    "Membaca file spesifikasi yang diberikan dan memberikan nama setiap kolom."
   ]
  },
  {
   "cell_type": "code",
   "execution_count": 2,
   "metadata": {},
   "outputs": [
    {
     "data": {
      "text/html": [
       "<div>\n",
       "<style scoped>\n",
       "    .dataframe tbody tr th:only-of-type {\n",
       "        vertical-align: middle;\n",
       "    }\n",
       "\n",
       "    .dataframe tbody tr th {\n",
       "        vertical-align: top;\n",
       "    }\n",
       "\n",
       "    .dataframe thead th {\n",
       "        text-align: right;\n",
       "    }\n",
       "</style>\n",
       "<table border=\"1\" class=\"dataframe\">\n",
       "  <thead>\n",
       "    <tr style=\"text-align: right;\">\n",
       "      <th></th>\n",
       "      <th>id</th>\n",
       "      <th>pH</th>\n",
       "      <th>Hardness</th>\n",
       "      <th>Solids</th>\n",
       "      <th>Chloramines</th>\n",
       "      <th>Sulfate</th>\n",
       "      <th>Conductivity</th>\n",
       "      <th>OrganicCarbon</th>\n",
       "      <th>Trihalomethanes</th>\n",
       "      <th>Turbidity</th>\n",
       "      <th>Potability</th>\n",
       "    </tr>\n",
       "  </thead>\n",
       "  <tbody>\n",
       "    <tr>\n",
       "      <th>0</th>\n",
       "      <td>1</td>\n",
       "      <td>8.316766</td>\n",
       "      <td>214.373394</td>\n",
       "      <td>22018.417441</td>\n",
       "      <td>8.059332</td>\n",
       "      <td>356.886136</td>\n",
       "      <td>363.266516</td>\n",
       "      <td>18.436524</td>\n",
       "      <td>100.341674</td>\n",
       "      <td>4.628771</td>\n",
       "      <td>0</td>\n",
       "    </tr>\n",
       "    <tr>\n",
       "      <th>1</th>\n",
       "      <td>2</td>\n",
       "      <td>9.092223</td>\n",
       "      <td>181.101509</td>\n",
       "      <td>17978.986339</td>\n",
       "      <td>6.546600</td>\n",
       "      <td>310.135738</td>\n",
       "      <td>398.410813</td>\n",
       "      <td>11.558279</td>\n",
       "      <td>31.997993</td>\n",
       "      <td>4.075075</td>\n",
       "      <td>0</td>\n",
       "    </tr>\n",
       "    <tr>\n",
       "      <th>2</th>\n",
       "      <td>3</td>\n",
       "      <td>5.584087</td>\n",
       "      <td>188.313324</td>\n",
       "      <td>28748.687739</td>\n",
       "      <td>7.544869</td>\n",
       "      <td>326.678363</td>\n",
       "      <td>280.467916</td>\n",
       "      <td>8.399735</td>\n",
       "      <td>54.917862</td>\n",
       "      <td>2.559708</td>\n",
       "      <td>0</td>\n",
       "    </tr>\n",
       "    <tr>\n",
       "      <th>3</th>\n",
       "      <td>4</td>\n",
       "      <td>10.223862</td>\n",
       "      <td>248.071735</td>\n",
       "      <td>28749.716544</td>\n",
       "      <td>7.513408</td>\n",
       "      <td>393.663396</td>\n",
       "      <td>283.651634</td>\n",
       "      <td>13.789695</td>\n",
       "      <td>84.603556</td>\n",
       "      <td>2.672989</td>\n",
       "      <td>0</td>\n",
       "    </tr>\n",
       "    <tr>\n",
       "      <th>4</th>\n",
       "      <td>5</td>\n",
       "      <td>8.635849</td>\n",
       "      <td>203.361523</td>\n",
       "      <td>13672.091764</td>\n",
       "      <td>4.563009</td>\n",
       "      <td>303.309771</td>\n",
       "      <td>474.607645</td>\n",
       "      <td>12.363817</td>\n",
       "      <td>62.798309</td>\n",
       "      <td>4.401425</td>\n",
       "      <td>0</td>\n",
       "    </tr>\n",
       "    <tr>\n",
       "      <th>...</th>\n",
       "      <td>...</td>\n",
       "      <td>...</td>\n",
       "      <td>...</td>\n",
       "      <td>...</td>\n",
       "      <td>...</td>\n",
       "      <td>...</td>\n",
       "      <td>...</td>\n",
       "      <td>...</td>\n",
       "      <td>...</td>\n",
       "      <td>...</td>\n",
       "      <td>...</td>\n",
       "    </tr>\n",
       "    <tr>\n",
       "      <th>2005</th>\n",
       "      <td>2006</td>\n",
       "      <td>8.197353</td>\n",
       "      <td>203.105091</td>\n",
       "      <td>27701.794055</td>\n",
       "      <td>6.472914</td>\n",
       "      <td>328.886838</td>\n",
       "      <td>444.612724</td>\n",
       "      <td>14.250875</td>\n",
       "      <td>62.906205</td>\n",
       "      <td>3.361833</td>\n",
       "      <td>1</td>\n",
       "    </tr>\n",
       "    <tr>\n",
       "      <th>2006</th>\n",
       "      <td>2007</td>\n",
       "      <td>8.989900</td>\n",
       "      <td>215.047358</td>\n",
       "      <td>15921.412018</td>\n",
       "      <td>6.297312</td>\n",
       "      <td>312.931022</td>\n",
       "      <td>390.410231</td>\n",
       "      <td>9.899115</td>\n",
       "      <td>55.069304</td>\n",
       "      <td>4.613843</td>\n",
       "      <td>1</td>\n",
       "    </tr>\n",
       "    <tr>\n",
       "      <th>2007</th>\n",
       "      <td>2008</td>\n",
       "      <td>6.702547</td>\n",
       "      <td>207.321086</td>\n",
       "      <td>17246.920347</td>\n",
       "      <td>7.708117</td>\n",
       "      <td>304.510230</td>\n",
       "      <td>329.266002</td>\n",
       "      <td>16.217303</td>\n",
       "      <td>28.878601</td>\n",
       "      <td>3.442983</td>\n",
       "      <td>1</td>\n",
       "    </tr>\n",
       "    <tr>\n",
       "      <th>2008</th>\n",
       "      <td>2009</td>\n",
       "      <td>11.491011</td>\n",
       "      <td>94.812545</td>\n",
       "      <td>37188.826022</td>\n",
       "      <td>9.263166</td>\n",
       "      <td>258.930600</td>\n",
       "      <td>439.893618</td>\n",
       "      <td>16.172755</td>\n",
       "      <td>41.558501</td>\n",
       "      <td>4.369264</td>\n",
       "      <td>1</td>\n",
       "    </tr>\n",
       "    <tr>\n",
       "      <th>2009</th>\n",
       "      <td>2010</td>\n",
       "      <td>6.069616</td>\n",
       "      <td>186.659040</td>\n",
       "      <td>26138.780191</td>\n",
       "      <td>7.747547</td>\n",
       "      <td>345.700257</td>\n",
       "      <td>415.886955</td>\n",
       "      <td>12.067620</td>\n",
       "      <td>60.419921</td>\n",
       "      <td>3.669712</td>\n",
       "      <td>1</td>\n",
       "    </tr>\n",
       "  </tbody>\n",
       "</table>\n",
       "<p>2010 rows × 11 columns</p>\n",
       "</div>"
      ],
      "text/plain": [
       "        id         pH    Hardness        Solids  Chloramines     Sulfate  \\\n",
       "0        1   8.316766  214.373394  22018.417441     8.059332  356.886136   \n",
       "1        2   9.092223  181.101509  17978.986339     6.546600  310.135738   \n",
       "2        3   5.584087  188.313324  28748.687739     7.544869  326.678363   \n",
       "3        4  10.223862  248.071735  28749.716544     7.513408  393.663396   \n",
       "4        5   8.635849  203.361523  13672.091764     4.563009  303.309771   \n",
       "...    ...        ...         ...           ...          ...         ...   \n",
       "2005  2006   8.197353  203.105091  27701.794055     6.472914  328.886838   \n",
       "2006  2007   8.989900  215.047358  15921.412018     6.297312  312.931022   \n",
       "2007  2008   6.702547  207.321086  17246.920347     7.708117  304.510230   \n",
       "2008  2009  11.491011   94.812545  37188.826022     9.263166  258.930600   \n",
       "2009  2010   6.069616  186.659040  26138.780191     7.747547  345.700257   \n",
       "\n",
       "      Conductivity  OrganicCarbon  Trihalomethanes  Turbidity  Potability  \n",
       "0       363.266516      18.436524       100.341674   4.628771           0  \n",
       "1       398.410813      11.558279        31.997993   4.075075           0  \n",
       "2       280.467916       8.399735        54.917862   2.559708           0  \n",
       "3       283.651634      13.789695        84.603556   2.672989           0  \n",
       "4       474.607645      12.363817        62.798309   4.401425           0  \n",
       "...            ...            ...              ...        ...         ...  \n",
       "2005    444.612724      14.250875        62.906205   3.361833           1  \n",
       "2006    390.410231       9.899115        55.069304   4.613843           1  \n",
       "2007    329.266002      16.217303        28.878601   3.442983           1  \n",
       "2008    439.893618      16.172755        41.558501   4.369264           1  \n",
       "2009    415.886955      12.067620        60.419921   3.669712           1  \n",
       "\n",
       "[2010 rows x 11 columns]"
      ]
     },
     "execution_count": 2,
     "metadata": {},
     "output_type": "execute_result"
    }
   ],
   "source": [
    "column_names = [\"id\", \"pH\", \"Hardness\", \"Solids\", \"Chloramines\", \"Sulfate\", \"Conductivity\", \"OrganicCarbon\", \"Trihalomethanes\", \"Turbidity\", \"Potability\"]\n",
    "df = pd.read_csv(\"water_potability.csv\", header = None, names = column_names)\n",
    "df"
   ]
  },
  {
   "cell_type": "markdown",
   "metadata": {},
   "source": [
    "## Tahap 1 - Deskripsi Statistika\n",
    "Menulis deskripsi statistika (Descriptive Statistics) dari semua kolom pada data yang bersifat\n",
    "numerik, terdiri dari mean, median, modus, standar deviasi, variansi, range, nilai minimum,\n",
    "maksimum, kuartil, IQR, skewness dan kurtosis. Ditambahkan juga perhitungan jumlah data untuk setiap kolom."
   ]
  },
  {
   "cell_type": "code",
   "execution_count": 3,
   "metadata": {},
   "outputs": [],
   "source": [
    "# Prosedur untuk menulis deskripsi statistik dari kolom c pada tabel\n",
    "def printStatistic(c):\n",
    "    print(\"count\\t\\t\\t: {}\".format(len(c)))\n",
    "    print(\"mean\\t\\t\\t: {}\".format(c.mean()))\n",
    "    print(\"median\\t\\t\\t: {}\".format(c.median()))\n",
    "    print(\"modus\\t\\t\\t:\", end = \" \")\n",
    "    if (len(c.mode() > 1)):\n",
    "        print(\"seluruh data adalah modus\")\n",
    "    else:\n",
    "        print(\"{}\".format(c.mode()))\n",
    "    print(\"standar deviasi\\t\\t: {}\".format(c.std()))\n",
    "    print(\"variansi\\t\\t: {}\".format(c.std()**2))\n",
    "    print(\"range\\t\\t\\t: {}\".format(c.max()-c.min()))\n",
    "    print(\"nilai minimum\\t\\t: {}\".format(c.min()))\n",
    "    print(\"nilai maksimum\\t\\t: {}\".format(c.max()))\n",
    "    quartiles = c.quantile([0,0.25,0.5,0.75,1])\n",
    "    for i,quartile in enumerate(quartiles):\n",
    "        print(\"quartil-{}\\t\\t: {}\".format(i,quartile))\n",
    "    print(\"IQR\\t\\t\\t: {}\".format(quartiles[0.75]-quartiles[0.25]))\n",
    "    print(\"skewness\\t\\t: {}\".format(c.skew()))\n",
    "    print(\"kurtosis\\t\\t: {}\".format(st.kurtosis(c, fisher=False)))"
   ]
  },
  {
   "cell_type": "markdown",
   "metadata": {},
   "source": [
    "### 1. id\n",
    "Id tidak perlu ditulis deskripsi statistikanya karena id merepresentasikan identifier yang unik untuk tiap data."
   ]
  },
  {
   "cell_type": "markdown",
   "metadata": {},
   "source": [
    "### 2. pH"
   ]
  },
  {
   "cell_type": "code",
   "execution_count": 4,
   "metadata": {},
   "outputs": [
    {
     "name": "stdout",
     "output_type": "stream",
     "text": [
      "count\t\t\t: 2010\n",
      "mean\t\t\t: 7.0871927687138285\n",
      "median\t\t\t: 7.029490455474185\n",
      "modus\t\t\t: seluruh data adalah modus\n",
      "standar deviasi\t\t: 1.5728029470456655\n",
      "variansi\t\t: 2.4737091102355304\n",
      "range\t\t\t: 13.7725009497978\n",
      "nilai minimum\t\t: 0.2274990502021987\n",
      "nilai maksimum\t\t: 13.999999999999998\n",
      "quartil-0\t\t: 0.2274990502021987\n",
      "quartil-1\t\t: 6.09078502142353\n",
      "quartil-2\t\t: 7.029490455474185\n",
      "quartil-3\t\t: 8.053006240791538\n",
      "quartil-4\t\t: 13.999999999999998\n",
      "IQR\t\t\t: 1.9622212193680078\n",
      "skewness\t\t: 0.04853451405270669\n",
      "kurtosis\t\t: 3.622362158216349\n"
     ]
    }
   ],
   "source": [
    "pH = df[\"pH\"]\n",
    "printStatistic(pH)"
   ]
  },
  {
   "cell_type": "markdown",
   "metadata": {},
   "source": [
    "### 3. Hardness"
   ]
  },
  {
   "cell_type": "code",
   "execution_count": 5,
   "metadata": {},
   "outputs": [
    {
     "name": "stdout",
     "output_type": "stream",
     "text": [
      "count\t\t\t: 2010\n",
      "mean\t\t\t: 195.96920903783524\n",
      "median\t\t\t: 197.20352491941043\n",
      "modus\t\t\t: seluruh data adalah modus\n",
      "standar deviasi\t\t: 32.643165859429864\n",
      "variansi\t\t: 1065.5762773262475\n",
      "range\t\t\t: 243.84589036652147\n",
      "nilai minimum\t\t: 73.4922336890611\n",
      "nilai maksimum\t\t: 317.33812405558257\n",
      "quartil-0\t\t: 73.4922336890611\n",
      "quartil-1\t\t: 176.74065667669896\n",
      "quartil-2\t\t: 197.20352491941043\n",
      "quartil-3\t\t: 216.44758866727156\n",
      "quartil-4\t\t: 317.33812405558257\n",
      "IQR\t\t\t: 39.7069319905726\n",
      "skewness\t\t: -0.08532104172868622\n",
      "kurtosis\t\t: 3.521190648776977\n"
     ]
    }
   ],
   "source": [
    "Hardness = df[\"Hardness\"]\n",
    "printStatistic(Hardness)"
   ]
  },
  {
   "cell_type": "markdown",
   "metadata": {},
   "source": [
    "### 4. Solids"
   ]
  },
  {
   "cell_type": "code",
   "execution_count": 6,
   "metadata": {},
   "outputs": [
    {
     "name": "stdout",
     "output_type": "stream",
     "text": [
      "count\t\t\t: 2010\n",
      "mean\t\t\t: 21904.673439053095\n",
      "median\t\t\t: 20926.88215534375\n",
      "modus\t\t\t: seluruh data adalah modus\n",
      "standar deviasi\t\t: 8625.397911190576\n",
      "variansi\t\t: 74397489.12637074\n",
      "range\t\t\t: 56167.72980146483\n",
      "nilai minimum\t\t: 320.942611274359\n",
      "nilai maksimum\t\t: 56488.67241273919\n",
      "quartil-0\t\t: 320.942611274359\n",
      "quartil-1\t\t: 15614.412961614333\n",
      "quartil-2\t\t: 20926.88215534375\n",
      "quartil-3\t\t: 27170.534648603603\n",
      "quartil-4\t\t: 56488.67241273919\n",
      "IQR\t\t\t: 11556.12168698927\n",
      "skewness\t\t: 0.5910113724580447\n",
      "kurtosis\t\t: 3.333498156306705\n"
     ]
    }
   ],
   "source": [
    "Solids = df[\"Solids\"]\n",
    "printStatistic(Solids)"
   ]
  },
  {
   "cell_type": "markdown",
   "metadata": {},
   "source": [
    "### 5. Chloramines"
   ]
  },
  {
   "cell_type": "code",
   "execution_count": 7,
   "metadata": {},
   "outputs": [
    {
     "name": "stdout",
     "output_type": "stream",
     "text": [
      "count\t\t\t: 2010\n",
      "mean\t\t\t: 7.134322344600104\n",
      "median\t\t\t: 7.1420143046226645\n",
      "modus\t\t\t: seluruh data adalah modus\n",
      "standar deviasi\t\t: 1.5852140982642102\n",
      "variansi\t\t: 2.512903737335613\n",
      "range\t\t\t: 11.736129095114823\n",
      "nilai minimum\t\t: 1.3908709048851806\n",
      "nilai maksimum\t\t: 13.127000000000002\n",
      "quartil-0\t\t: 1.3908709048851806\n",
      "quartil-1\t\t: 6.138326387572855\n",
      "quartil-2\t\t: 7.1420143046226645\n",
      "quartil-3\t\t: 8.109933216133502\n",
      "quartil-4\t\t: 13.127000000000002\n",
      "IQR\t\t\t: 1.9716068285606472\n",
      "skewness\t\t: 0.013003497779569528\n",
      "kurtosis\t\t: 3.5454318545555785\n"
     ]
    }
   ],
   "source": [
    "Chloramines = df[\"Chloramines\"]\n",
    "printStatistic(Chloramines)"
   ]
  },
  {
   "cell_type": "markdown",
   "metadata": {},
   "source": [
    "### 6. Sulfate"
   ]
  },
  {
   "cell_type": "code",
   "execution_count": 8,
   "metadata": {},
   "outputs": [
    {
     "name": "stdout",
     "output_type": "stream",
     "text": [
      "count\t\t\t: 2010\n",
      "mean\t\t\t: 333.211376415189\n",
      "median\t\t\t: 332.2141128069568\n",
      "modus\t\t\t: seluruh data adalah modus\n",
      "standar deviasi\t\t: 41.21111102560979\n",
      "variansi\t\t: 1698.3556719651367\n",
      "range\t\t\t: 352.03064230599716\n",
      "nilai minimum\t\t: 129.00000000000003\n",
      "nilai maksimum\t\t: 481.0306423059972\n",
      "quartil-0\t\t: 129.00000000000003\n",
      "quartil-1\t\t: 307.6269864860709\n",
      "quartil-2\t\t: 332.2141128069568\n",
      "quartil-3\t\t: 359.26814739141554\n",
      "quartil-4\t\t: 481.0306423059972\n",
      "IQR\t\t\t: 51.641160905344634\n",
      "skewness\t\t: -0.04572780443653543\n",
      "kurtosis\t\t: 3.7819149219038866\n"
     ]
    }
   ],
   "source": [
    "Sulfate = df[\"Sulfate\"]\n",
    "printStatistic(Sulfate)"
   ]
  },
  {
   "cell_type": "markdown",
   "metadata": {},
   "source": [
    "### 7. Conductivity"
   ]
  },
  {
   "cell_type": "code",
   "execution_count": 9,
   "metadata": {},
   "outputs": [
    {
     "name": "stdout",
     "output_type": "stream",
     "text": [
      "count\t\t\t: 2010\n",
      "mean\t\t\t: 426.47670835257907\n",
      "median\t\t\t: 423.43837202443706\n",
      "modus\t\t\t: seluruh data adalah modus\n",
      "standar deviasi\t\t: 80.70187180729437\n",
      "variansi\t\t: 6512.792113200973\n",
      "range\t\t\t: 551.7228828031471\n",
      "nilai minimum\t\t: 201.6197367551575\n",
      "nilai maksimum\t\t: 753.3426195583046\n",
      "quartil-0\t\t: 201.6197367551575\n",
      "quartil-1\t\t: 366.61921929632433\n",
      "quartil-2\t\t: 423.43837202443706\n",
      "quartil-3\t\t: 482.2097724598859\n",
      "quartil-4\t\t: 753.3426195583046\n",
      "IQR\t\t\t: 115.5905531635616\n",
      "skewness\t\t: 0.26801233302645316\n",
      "kurtosis\t\t: 2.760400057844864\n"
     ]
    }
   ],
   "source": [
    "Conductivity = df[\"Conductivity\"]\n",
    "printStatistic(Conductivity)"
   ]
  },
  {
   "cell_type": "markdown",
   "metadata": {},
   "source": [
    "### 8. OrganicCarbon"
   ]
  },
  {
   "cell_type": "code",
   "execution_count": 10,
   "metadata": {},
   "outputs": [
    {
     "name": "stdout",
     "output_type": "stream",
     "text": [
      "count\t\t\t: 2010\n",
      "mean\t\t\t: 14.357939902048074\n",
      "median\t\t\t: 14.323285610653329\n",
      "modus\t\t\t: seluruh data adalah modus\n",
      "standar deviasi\t\t: 3.3257700016987197\n",
      "variansi\t\t: 11.060746104199103\n",
      "range\t\t\t: 24.80670661116602\n",
      "nilai minimum\t\t: 2.1999999999999886\n",
      "nilai maksimum\t\t: 27.00670661116601\n",
      "quartil-0\t\t: 2.1999999999999886\n",
      "quartil-1\t\t: 12.122530374047727\n",
      "quartil-2\t\t: 14.323285610653329\n",
      "quartil-3\t\t: 16.683561746173808\n",
      "quartil-4\t\t: 27.00670661116601\n",
      "IQR\t\t\t: 4.561031372126081\n",
      "skewness\t\t: -0.02021975629181238\n",
      "kurtosis\t\t: 3.027957691493332\n"
     ]
    }
   ],
   "source": [
    "OrganicCarbon = df[\"OrganicCarbon\"]\n",
    "printStatistic(OrganicCarbon)"
   ]
  },
  {
   "cell_type": "markdown",
   "metadata": {},
   "source": [
    "### 9. Trihalomethanes"
   ]
  },
  {
   "cell_type": "code",
   "execution_count": 11,
   "metadata": {},
   "outputs": [
    {
     "name": "stdout",
     "output_type": "stream",
     "text": [
      "count\t\t\t: 2010\n",
      "mean\t\t\t: 66.40071666307466\n",
      "median\t\t\t: 66.48204080309809\n",
      "modus\t\t\t: seluruh data adalah modus\n",
      "standar deviasi\t\t: 16.08110898232513\n",
      "variansi\t\t: 258.60206610141796\n",
      "range\t\t\t: 115.4229870670162\n",
      "nilai minimum\t\t: 8.577012932983806\n",
      "nilai maksimum\t\t: 124.0\n",
      "quartil-0\t\t: 8.577012932983806\n",
      "quartil-1\t\t: 55.94999302803186\n",
      "quartil-2\t\t: 66.48204080309809\n",
      "quartil-3\t\t: 77.2946128060674\n",
      "quartil-4\t\t: 124.0\n",
      "IQR\t\t\t: 21.344619778035543\n",
      "skewness\t\t: -0.05138268451619478\n",
      "kurtosis\t\t: 3.2194788089667044\n"
     ]
    }
   ],
   "source": [
    "Trihalomethanes = df[\"Trihalomethanes\"]\n",
    "printStatistic(Trihalomethanes)"
   ]
  },
  {
   "cell_type": "markdown",
   "metadata": {},
   "source": [
    "### 10. Turbidity"
   ]
  },
  {
   "cell_type": "code",
   "execution_count": 12,
   "metadata": {},
   "outputs": [
    {
     "name": "stdout",
     "output_type": "stream",
     "text": [
      "count\t\t\t: 2010\n",
      "mean\t\t\t: 3.9694969126303676\n",
      "median\t\t\t: 3.967373963531836\n",
      "modus\t\t\t: seluruh data adalah modus\n",
      "standar deviasi\t\t: 0.7804710407083957\n",
      "variansi\t\t: 0.6091350453844462\n",
      "range\t\t\t: 5.044748555990993\n",
      "nilai minimum\t\t: 1.45\n",
      "nilai maksimum\t\t: 6.494748555990993\n",
      "quartil-0\t\t: 1.45\n",
      "quartil-1\t\t: 3.442881623557439\n",
      "quartil-2\t\t: 3.967373963531836\n",
      "quartil-3\t\t: 4.5146627202018825\n",
      "quartil-4\t\t: 6.494748555990993\n",
      "IQR\t\t\t: 1.0717810966444437\n",
      "skewness\t\t: -0.03226597968019271\n",
      "kurtosis\t\t: 2.9473094836957947\n"
     ]
    }
   ],
   "source": [
    "Turbidity = df[\"Turbidity\"]\n",
    "printStatistic(Turbidity)"
   ]
  },
  {
   "cell_type": "markdown",
   "metadata": {},
   "source": [
    "### 11. Potability\n",
    "Potability tidak perlu ditulis deskripsi statistikanya karena potability adalah kolom yang merupakan target."
   ]
  },
  {
   "cell_type": "markdown",
   "metadata": {},
   "source": [
    "## Tahap 2 - Visualisasi\n",
    "Membuat visualisasi plot distribusi, dalam bentuk histogram dan boxplot untuk setiap\n",
    "kolom numerik."
   ]
  },
  {
   "cell_type": "markdown",
   "metadata": {},
   "source": [
    "### 1. id\n",
    "Kolom id tidak perlu divisualisasi karena selalu unik untuk setiap data."
   ]
  },
  {
   "cell_type": "markdown",
   "metadata": {},
   "source": [
    "### 2. pH"
   ]
  },
  {
   "cell_type": "code",
   "execution_count": 13,
   "metadata": {},
   "outputs": [
    {
     "data": {
      "text/plain": [
       "Text(0, 0.5, 'Frekuensi')"
      ]
     },
     "execution_count": 13,
     "metadata": {},
     "output_type": "execute_result"
    },
    {
     "data": {
      "image/png": "[encoded data removed]",
      "text/plain": [
       "<Figure size 432x288 with 1 Axes>"
      ]
     },
     "metadata": {
      "needs_background": "light"
     },
     "output_type": "display_data"
    }
   ],
   "source": [
    "# Histogram kolom pH\n",
    "\n",
    "HistpH = sns.histplot(pH, kde = True)\n",
    "HistpH.set_title(\"Histogram pH\")\n",
    "HistpH.set_ylabel(\"Frekuensi\")"
   ]
  },
  {
   "cell_type": "code",
   "execution_count": 14,
   "metadata": {},
   "outputs": [
    {
     "data": {
      "text/plain": [
       "Text(0.5, 1.0, 'BoxPlot pH')"
      ]
     },
     "execution_count": 14,
     "metadata": {},
     "output_type": "execute_result"
    },
    {
     "data": {
      "image/png": "[encoded data removed]",
      "text/plain": [
       "<Figure size 432x288 with 1 Axes>"
      ]
     },
     "metadata": {
      "needs_background": "light"
     },
     "output_type": "display_data"
    }
   ],
   "source": [
    "# Boxplot kolom pH\n",
    "\n",
    "BoxPlotpH= sns.boxplot(data = pH)\n",
    "BoxPlotpH.set_title(\"BoxPlot pH\")"
   ]
  },
  {
   "cell_type": "markdown",
   "metadata": {},
   "source": [
    "### 3. Hardness"
   ]
  },
  {
   "cell_type": "code",
   "execution_count": 15,
   "metadata": {},
   "outputs": [
    {
     "data": {
      "text/plain": [
       "Text(0, 0.5, 'Frekuensi')"
      ]
     },
     "execution_count": 15,
     "metadata": {},
     "output_type": "execute_result"
    },
    {
     "data": {
      "image/png": "[encoded data removed]",
      "text/plain": [
       "<Figure size 432x288 with 1 Axes>"
      ]
     },
     "metadata": {
      "needs_background": "light"
     },
     "output_type": "display_data"
    }
   ],
   "source": [
    "# Histogram kolom Hardness\n",
    "\n",
    "HistHardness = sns.histplot(Hardness, kde = True)\n",
    "HistHardness.set_title(\"Histogram Hardness\")\n",
    "HistHardness.set_ylabel(\"Frekuensi\")"
   ]
  },
  {
   "cell_type": "code",
   "execution_count": 16,
   "metadata": {},
   "outputs": [
    {
     "data": {
      "text/plain": [
       "Text(0.5, 1.0, 'BoxPlot Hardness')"
      ]
     },
     "execution_count": 16,
     "metadata": {},
     "output_type": "execute_result"
    },
    {
     "data": {
      "image/png": "[encoded data removed]",
      "text/plain": [
       "<Figure size 432x288 with 1 Axes>"
      ]
     },
     "metadata": {
      "needs_background": "light"
     },
     "output_type": "display_data"
    }
   ],
   "source": [
    "# Boxplot kolom Hardness\n",
    "\n",
    "BoxPlotHardness = sns.boxplot(data = Hardness)\n",
    "BoxPlotHardness.set_title(\"BoxPlot Hardness\")"
   ]
  },
  {
   "cell_type": "markdown",
   "metadata": {},
   "source": [
    "### 4. Solids"
   ]
  },
  {
   "cell_type": "code",
   "execution_count": 17,
   "metadata": {},
   "outputs": [
    {
     "data": {
      "text/plain": [
       "Text(0, 0.5, 'Frekuensi')"
      ]
     },
     "execution_count": 17,
     "metadata": {},
     "output_type": "execute_result"
    },
    {
     "data": {
      "image/png": "[encoded data removed]",
      "text/plain": [
       "<Figure size 432x288 with 1 Axes>"
      ]
     },
     "metadata": {
      "needs_background": "light"
     },
     "output_type": "display_data"
    }
   ],
   "source": [
    "# Histogram kolom Solids\n",
    "\n",
    "HistSolids = sns.histplot(Solids, kde = True)\n",
    "HistSolids.set_title(\"Histogram Solids\")\n",
    "HistSolids.set_ylabel(\"Frekuensi\")"
   ]
  },
  {
   "cell_type": "code",
   "execution_count": 18,
   "metadata": {},
   "outputs": [
    {
     "data": {
      "text/plain": [
       "Text(0.5, 1.0, 'BoxPlot Solids')"
      ]
     },
     "execution_count": 18,
     "metadata": {},
     "output_type": "execute_result"
    },
    {
     "data": {
      "image/png": "[encoded data removed]",
      "text/plain": [
       "<Figure size 432x288 with 1 Axes>"
      ]
     },
     "metadata": {
      "needs_background": "light"
     },
     "output_type": "display_data"
    }
   ],
   "source": [
    "# Boxplot kolom Solids\n",
    "\n",
    "BoxPlotSolids = sns.boxplot(data = Solids)\n",
    "BoxPlotSolids.set_title(\"BoxPlot Solids\")"
   ]
  },
  {
   "cell_type": "markdown",
   "metadata": {},
   "source": [
    "### 5. Chloramines"
   ]
  },
  {
   "cell_type": "code",
   "execution_count": 19,
   "metadata": {},
   "outputs": [
    {
     "data": {
      "text/plain": [
       "Text(0, 0.5, 'Frekuensi')"
      ]
     },
     "execution_count": 19,
     "metadata": {},
     "output_type": "execute_result"
    },
    {
     "data": {
      "image/png": "[encoded data removed]",
      "text/plain": [
       "<Figure size 432x288 with 1 Axes>"
      ]
     },
     "metadata": {
      "needs_background": "light"
     },
     "output_type": "display_data"
    }
   ],
   "source": [
    "# Histogram kolom Chloramines\n",
    "\n",
    "HistChloramines = sns.histplot(Chloramines, kde = True)\n",
    "HistChloramines.set_title(\"Histogram Chloramines\")\n",
    "HistChloramines.set_ylabel(\"Frekuensi\")"
   ]
  },
  {
   "cell_type": "code",
   "execution_count": 20,
   "metadata": {},
   "outputs": [
    {
     "data": {
      "text/plain": [
       "Text(0.5, 1.0, 'BoxPlot Chloramines')"
      ]
     },
     "execution_count": 20,
     "metadata": {},
     "output_type": "execute_result"
    },
    {
     "data": {
      "image/png": "[encoded data removed]",
      "text/plain": [
       "<Figure size 432x288 with 1 Axes>"
      ]
     },
     "metadata": {
      "needs_background": "light"
     },
     "output_type": "display_data"
    }
   ],
   "source": [
    "# Boxplot kolom Chloramines\n",
    "\n",
    "BoxPlotChloramines = sns.boxplot(data = Chloramines)\n",
    "BoxPlotChloramines.set_title(\"BoxPlot Chloramines\")"
   ]
  },
  {
   "cell_type": "markdown",
   "metadata": {},
   "source": [
    "### 6. Sulfate"
   ]
  },
  {
   "cell_type": "code",
   "execution_count": 21,
   "metadata": {},
   "outputs": [
    {
     "data": {
      "text/plain": [
       "Text(0, 0.5, 'Frekuensi')"
      ]
     },
     "execution_count": 21,
     "metadata": {},
     "output_type": "execute_result"
    },
    {
     "data": {
      "image/png": "[encoded data removed]",
      "text/plain": [
       "<Figure size 432x288 with 1 Axes>"
      ]
     },
     "metadata": {
      "needs_background": "light"
     },
     "output_type": "display_data"
    }
   ],
   "source": [
    "# Histogram kolom Sulfate\n",
    "\n",
    "HistSulfate = sns.histplot(Sulfate, kde = True)\n",
    "HistSulfate.set_title(\"Histogram Sulfate\")\n",
    "HistSulfate.set_ylabel(\"Frekuensi\")"
   ]
  },
  {
   "cell_type": "code",
   "execution_count": 22,
   "metadata": {},
   "outputs": [
    {
     "data": {
      "text/plain": [
       "Text(0.5, 1.0, 'BoxPlot Sulfate')"
      ]
     },
     "execution_count": 22,
     "metadata": {},
     "output_type": "execute_result"
    },
    {
     "data": {
      "image/png": "[encoded data removed]",
      "text/plain": [
       "<Figure size 432x288 with 1 Axes>"
      ]
     },
     "metadata": {
      "needs_background": "light"
     },
     "output_type": "display_data"
    }
   ],
   "source": [
    "# Boxplot kolom Sulfate\n",
    "\n",
    "BoxPlotSulfate = sns.boxplot(data = Sulfate)\n",
    "BoxPlotSulfate.set_title(\"BoxPlot Sulfate\")"
   ]
  },
  {
   "cell_type": "markdown",
   "metadata": {},
   "source": [
    "### 7. Conductivity"
   ]
  },
  {
   "cell_type": "code",
   "execution_count": 23,
   "metadata": {},
   "outputs": [
    {
     "data": {
      "text/plain": [
       "Text(0, 0.5, 'Frekuensi')"
      ]
     },
     "execution_count": 23,
     "metadata": {},
     "output_type": "execute_result"
    },
    {
     "data": {
      "image/png": "[encoded data removed]",
      "text/plain": [
       "<Figure size 432x288 with 1 Axes>"
      ]
     },
     "metadata": {
      "needs_background": "light"
     },
     "output_type": "display_data"
    }
   ],
   "source": [
    "# Histogram kolom Conductivity\n",
    "\n",
    "HistConductivity = sns.histplot(Conductivity, kde = True)\n",
    "HistConductivity.set_title(\"Histogram Conductivity\")\n",
    "HistConductivity.set_ylabel(\"Frekuensi\")"
   ]
  },
  {
   "cell_type": "code",
   "execution_count": 24,
   "metadata": {},
   "outputs": [
    {
     "data": {
      "text/plain": [
       "Text(0.5, 1.0, 'BoxPlot Conductivity')"
      ]
     },
     "execution_count": 24,
     "metadata": {},
     "output_type": "execute_result"
    },
    {
     "data": {
      "image/png": "[encoded data removed]",
      "text/plain": [
       "<Figure size 432x288 with 1 Axes>"
      ]
     },
     "metadata": {
      "needs_background": "light"
     },
     "output_type": "display_data"
    }
   ],
   "source": [
    "# Boxplot kolom Conductivity\n",
    "\n",
    "BoxPlotConductivity = sns.boxplot(data = Conductivity)\n",
    "BoxPlotConductivity.set_title(\"BoxPlot Conductivity\")"
   ]
  },
  {
   "cell_type": "markdown",
   "metadata": {},
   "source": [
    "### 8. OrganicCarbon"
   ]
  },
  {
   "cell_type": "code",
   "execution_count": 25,
   "metadata": {},
   "outputs": [
    {
     "data": {
      "text/plain": [
       "Text(0, 0.5, 'Frekuensi')"
      ]
     },
     "execution_count": 25,
     "metadata": {},
     "output_type": "execute_result"
    },
    {
     "data": {
      "image/png": "[encoded data removed]",
      "text/plain": [
       "<Figure size 432x288 with 1 Axes>"
      ]
     },
     "metadata": {
      "needs_background": "light"
     },
     "output_type": "display_data"
    }
   ],
   "source": [
    "# Histogram kolom OrganicCarbon\n",
    "\n",
    "HistOrganicCarbon = sns.histplot(OrganicCarbon, kde = True)\n",
    "HistOrganicCarbon.set_title(\"Histogram OrganicCarbon\")\n",
    "HistOrganicCarbon.set_ylabel(\"Frekuensi\")"
   ]
  },
  {
   "cell_type": "code",
   "execution_count": 26,
   "metadata": {},
   "outputs": [
    {
     "data": {
      "text/plain": [
       "Text(0.5, 1.0, 'BoxPlot OrganicCarbon')"
      ]
     },
     "execution_count": 26,
     "metadata": {},
     "output_type": "execute_result"
    },
    {
     "data": {
      "image/png": "[encoded data removed]",
      "text/plain": [
       "<Figure size 432x288 with 1 Axes>"
      ]
     },
     "metadata": {
      "needs_background": "light"
     },
     "output_type": "display_data"
    }
   ],
   "source": [
    "# Boxplot kolom OrganicCarbon\n",
    "\n",
    "BoxPlotOrganicCarbon = sns.boxplot(data = OrganicCarbon)\n",
    "BoxPlotOrganicCarbon.set_title(\"BoxPlot OrganicCarbon\")"
   ]
  },
  {
   "cell_type": "markdown",
   "metadata": {},
   "source": [
    "### 9. Trihalomethanes"
   ]
  },
  {
   "cell_type": "code",
   "execution_count": 27,
   "metadata": {},
   "outputs": [
    {
     "data": {
      "text/plain": [
       "Text(0, 0.5, 'Frekuensi')"
      ]
     },
     "execution_count": 27,
     "metadata": {},
     "output_type": "execute_result"
    },
    {
     "data": {
      "image/png": "[encoded data removed]",
      "text/plain": [
       "<Figure size 432x288 with 1 Axes>"
      ]
     },
     "metadata": {
      "needs_background": "light"
     },
     "output_type": "display_data"
    }
   ],
   "source": [
    "# Histogram kolom Trihalomethanes\n",
    "\n",
    "HistTrihalomethanes = sns.histplot(Trihalomethanes, kde = True)\n",
    "HistTrihalomethanes.set_title(\"Histogram Trihalomethanes\")\n",
    "HistTrihalomethanes.set_ylabel(\"Frekuensi\")"
   ]
  },
  {
   "cell_type": "code",
   "execution_count": 28,
   "metadata": {},
   "outputs": [
    {
     "data": {
      "text/plain": [
       "Text(0.5, 1.0, 'BoxPlot Trihalomethanes')"
      ]
     },
     "execution_count": 28,
     "metadata": {},
     "output_type": "execute_result"
    },
    {
     "data": {
      "image/png": "[encoded data removed]",
      "text/plain": [
       "<Figure size 432x288 with 1 Axes>"
      ]
     },
     "metadata": {
      "needs_background": "light"
     },
     "output_type": "display_data"
    }
   ],
   "source": [
    "# Boxplot kolom Trihalomethanes\n",
    "\n",
    "BoxPlotTrihalomethanes = sns.boxplot(data = Trihalomethanes)\n",
    "BoxPlotTrihalomethanes.set_title(\"BoxPlot Trihalomethanes\")"
   ]
  },
  {
   "cell_type": "markdown",
   "metadata": {},
   "source": [
    "### 10. Turbidity"
   ]
  },
  {
   "cell_type": "code",
   "execution_count": 29,
   "metadata": {},
   "outputs": [
    {
     "data": {
      "text/plain": [
       "Text(0, 0.5, 'Frekuensi')"
      ]
     },
     "execution_count": 29,
     "metadata": {},
     "output_type": "execute_result"
    },
    {
     "data": {
      "image/png": "[encoded data removed]",
      "text/plain": [
       "<Figure size 432x288 with 1 Axes>"
      ]
     },
     "metadata": {
      "needs_background": "light"
     },
     "output_type": "display_data"
    }
   ],
   "source": [
    "# Histogram kolom Turbidity\n",
    "\n",
    "HistTurbidity = sns.histplot(Turbidity, kde = True)\n",
    "HistTurbidity.set_title(\"Histogram Turbidity\")\n",
    "HistTurbidity.set_ylabel(\"Frekuensi\")"
   ]
  },
  {
   "cell_type": "code",
   "execution_count": 30,
   "metadata": {},
   "outputs": [
    {
     "data": {
      "text/plain": [
       "Text(0.5, 1.0, 'BoxPlot Turbidity')"
      ]
     },
     "execution_count": 30,
     "metadata": {},
     "output_type": "execute_result"
    },
    {
     "data": {
      "image/png": "[encoded data removed]",
      "text/plain": [
       "<Figure size 432x288 with 1 Axes>"
      ]
     },
     "metadata": {
      "needs_background": "light"
     },
     "output_type": "display_data"
    }
   ],
   "source": [
    "# Boxplot kolom Turbidity\n",
    "\n",
    "BoxPlotTurbidity = sns.boxplot(data = Turbidity)\n",
    "BoxPlotTurbidity.set_title(\"BoxPlot Turbidity\")"
   ]
  },
  {
   "cell_type": "markdown",
   "metadata": {},
   "source": [
    "### 11. Potability\n",
    "Kolom potability tidak perlu divisualisasi karena merupakan kolom target."
   ]
  },
  {
   "cell_type": "markdown",
   "metadata": {},
   "source": [
    "## Tahap 3 - Tes Normality\n",
    "Menentukan setiap kolom numerik berdistribusi normal atau tidak dengan menggunakan normality test yang dikaitkan dengan histogram plot."
   ]
  },
  {
   "cell_type": "markdown",
   "metadata": {},
   "source": [
    "### 1. Id\n",
    "Kolom id tidak perlu dilakukan normality test karena selalu unik untuk setiap data."
   ]
  },
  {
   "cell_type": "markdown",
   "metadata": {},
   "source": [
    "### 2. pH"
   ]
  },
  {
   "cell_type": "code",
   "execution_count": 31,
   "metadata": {},
   "outputs": [
    {
     "name": "stdout",
     "output_type": "stream",
     "text": [
      "p = 2.65148e-05\n",
      "H0 ditolak, sehingga data tidak terdistribusi dengan normal\n"
     ]
    },
    {
     "data": {
      "text/plain": [
       "[<matplotlib.lines.Line2D at 0x19d28221c40>]"
      ]
     },
     "execution_count": 31,
     "metadata": {},
     "output_type": "execute_result"
    },
    {
     "data": {
      "image/png": "[encoded data removed]",
      "text/plain": [
       "<Figure size 432x288 with 1 Axes>"
      ]
     },
     "metadata": {
      "needs_background": "light"
     },
     "output_type": "display_data"
    }
   ],
   "source": [
    "k, p = st.normaltest(pH)\n",
    "alpha = 0.05\n",
    "print(\"p = {:g}\".format(p))\n",
    "if p < alpha:  # null hypothesis: x comes from a normal distribution\n",
    "    print(\"H0 ditolak, sehingga data tidak terdistribusi dengan normal\")\n",
    "else:\n",
    "    print(\"H0 tidak bisa ditolak, sehingga data terdistribusi dengan normal\")\n",
    "\n",
    "mu, sigma = st.norm.fit(pH)\n",
    "plt.hist(pH, bins = 'auto', density = True)\n",
    "xmin, xmax = plt.xlim()\n",
    "x = np.linspace(xmin, xmax, 100)\n",
    "y = st.norm.pdf(x, mu, sigma)\n",
    "plt.title(r'$\\mathrm{Histogram\\ of\\ pH:}\\ \\mu=%.3f,\\ \\sigma=%.3f$' %(mu, sigma))\n",
    "plt.plot(x, y,'k',lw=4)"
   ]
  },
  {
   "cell_type": "markdown",
   "metadata": {},
   "source": [
    "### 3. Hardness"
   ]
  },
  {
   "cell_type": "code",
   "execution_count": 32,
   "metadata": {},
   "outputs": [
    {
     "name": "stdout",
     "output_type": "stream",
     "text": [
      "p = 0.000134424\n",
      "H0 ditolak, sehingga data tidak terdistribusi dengan normal\n"
     ]
    },
    {
     "data": {
      "text/plain": [
       "[<matplotlib.lines.Line2D at 0x19d2840cbe0>]"
      ]
     },
     "execution_count": 32,
     "metadata": {},
     "output_type": "execute_result"
    },
    {
     "data": {
      "image/png": "[encoded data removed]",
      "text/plain": [
       "<Figure size 432x288 with 1 Axes>"
      ]
     },
     "metadata": {
      "needs_background": "light"
     },
     "output_type": "display_data"
    }
   ],
   "source": [
    "k, p = st.normaltest(Hardness)\n",
    "alpha = 0.05\n",
    "print(\"p = {:g}\".format(p))\n",
    "if p < alpha:  # null hypothesis: x comes from a normal distribution\n",
    "    print(\"H0 ditolak, sehingga data tidak terdistribusi dengan normal\")\n",
    "else:\n",
    "    print(\"H0 tidak bisa ditolak, sehingga data terdistribusi dengan normal\")\n",
    "\n",
    "mu, sigma = st.norm.fit(Hardness)\n",
    "plt.hist(Hardness, bins = 'auto', density = True)\n",
    "xmin, xmax = plt.xlim()\n",
    "x = np.linspace(xmin, xmax, 100)\n",
    "y = st.norm.pdf(x, mu, sigma)\n",
    "plt.title(r'$\\mathrm{Histogram\\ of\\ Hardness:}\\ \\mu=%.3f,\\ \\sigma=%.3f$' %(mu, sigma))\n",
    "plt.plot(x, y,'k',lw=4)"
   ]
  },
  {
   "cell_type": "markdown",
   "metadata": {},
   "source": [
    "### 4. Solids"
   ]
  },
  {
   "cell_type": "code",
   "execution_count": 33,
   "metadata": {},
   "outputs": [
    {
     "name": "stdout",
     "output_type": "stream",
     "text": [
      "p = 2.07966e-24\n",
      "H0 ditolak, sehingga data tidak terdistribusi dengan normal\n"
     ]
    },
    {
     "data": {
      "text/plain": [
       "[<matplotlib.lines.Line2D at 0x19d28507460>]"
      ]
     },
     "execution_count": 33,
     "metadata": {},
     "output_type": "execute_result"
    },
    {
     "data": {
      "image/png": "[encoded data removed]",
      "text/plain": [
       "<Figure size 432x288 with 1 Axes>"
      ]
     },
     "metadata": {
      "needs_background": "light"
     },
     "output_type": "display_data"
    }
   ],
   "source": [
    "k, p = st.normaltest(Solids)\n",
    "alpha = 0.05\n",
    "print(\"p = {:g}\".format(p))\n",
    "if p < alpha:  # null hypothesis: x comes from a normal distribution\n",
    "    print(\"H0 ditolak, sehingga data tidak terdistribusi dengan normal\")\n",
    "else:\n",
    "    print(\"H0 tidak bisa ditolak, sehingga data terdistribusi dengan normal\")\n",
    "\n",
    "mu, sigma = st.norm.fit(Solids)\n",
    "plt.hist(Solids, bins = 'auto', density = True)\n",
    "xmin, xmax = plt.xlim()\n",
    "x = np.linspace(xmin, xmax, 100)\n",
    "y = st.norm.pdf(x, mu, sigma)\n",
    "plt.title(r'$\\mathrm{Histogram\\ of\\ Solids:}\\ \\mu=%.3f,\\ \\sigma=%.3f$' %(mu, sigma))\n",
    "plt.plot(x, y,'k',lw=4)"
   ]
  },
  {
   "cell_type": "markdown",
   "metadata": {},
   "source": [
    "### 5. Chloramines"
   ]
  },
  {
   "cell_type": "code",
   "execution_count": 34,
   "metadata": {},
   "outputs": [
    {
     "name": "stdout",
     "output_type": "stream",
     "text": [
      "p = 0.000250483\n",
      "H0 ditolak, sehingga data tidak terdistribusi dengan normal\n"
     ]
    },
    {
     "data": {
      "text/plain": [
       "[<matplotlib.lines.Line2D at 0x19d285efd30>]"
      ]
     },
     "execution_count": 34,
     "metadata": {},
     "output_type": "execute_result"
    },
    {
     "data": {
      "image/png": "[encoded data removed]",
      "text/plain": [
       "<Figure size 432x288 with 1 Axes>"
      ]
     },
     "metadata": {
      "needs_background": "light"
     },
     "output_type": "display_data"
    }
   ],
   "source": [
    "k, p = st.normaltest(Chloramines)\n",
    "alpha = 0.05\n",
    "print(\"p = {:g}\".format(p))\n",
    "if p < alpha:  # null hypothesis: x comes from a normal distribution\n",
    "    print(\"H0 ditolak, sehingga data tidak terdistribusi dengan normal\")\n",
    "else:\n",
    "    print(\"H0 tidak bisa ditolak, sehingga data terdistribusi dengan normal\")\n",
    "\n",
    "mu, sigma = st.norm.fit(Chloramines)\n",
    "plt.hist(Chloramines, bins = 'auto', density = True)\n",
    "xmin, xmax = plt.xlim()\n",
    "x = np.linspace(xmin, xmax, 100)\n",
    "y = st.norm.pdf(x, mu, sigma)\n",
    "plt.title(r'$\\mathrm{Histogram\\ of\\ Chloramines:}\\ \\mu=%.3f,\\ \\sigma=%.3f$' %(mu, sigma))\n",
    "plt.plot(x, y,'k',lw=4)"
   ]
  },
  {
   "cell_type": "markdown",
   "metadata": {},
   "source": [
    "### 6. Sulfate"
   ]
  },
  {
   "cell_type": "code",
   "execution_count": 35,
   "metadata": {},
   "outputs": [
    {
     "name": "stdout",
     "output_type": "stream",
     "text": [
      "p = 4.42559e-07\n",
      "H0 ditolak, sehingga data tidak terdistribusi dengan normal\n"
     ]
    },
    {
     "data": {
      "text/plain": [
       "[<matplotlib.lines.Line2D at 0x19d283e0850>]"
      ]
     },
     "execution_count": 35,
     "metadata": {},
     "output_type": "execute_result"
    },
    {
     "data": {
      "image/png": "[encoded data removed]",
      "text/plain": [
       "<Figure size 432x288 with 1 Axes>"
      ]
     },
     "metadata": {
      "needs_background": "light"
     },
     "output_type": "display_data"
    }
   ],
   "source": [
    "k, p = st.normaltest(Sulfate)\n",
    "alpha = 0.05\n",
    "print(\"p = {:g}\".format(p))\n",
    "if p < alpha:  # null hypothesis: x comes from a normal distribution\n",
    "    print(\"H0 ditolak, sehingga data tidak terdistribusi dengan normal\")\n",
    "else:\n",
    "    print(\"H0 tidak bisa ditolak, sehingga data terdistribusi dengan normal\")\n",
    "\n",
    "mu, sigma = st.norm.fit(Sulfate)\n",
    "plt.hist(Sulfate, bins = 'auto', density = True)\n",
    "xmin, xmax = plt.xlim()\n",
    "x = np.linspace(xmin, xmax, 100)\n",
    "y = st.norm.pdf(x, mu, sigma)\n",
    "plt.title(r'$\\mathrm{Histogram\\ of\\ Sulfate:}\\ \\mu=%.3f,\\ \\sigma=%.3f$' %(mu, sigma))\n",
    "plt.plot(x, y,'k',lw=4)"
   ]
  },
  {
   "cell_type": "markdown",
   "metadata": {},
   "source": [
    "### 7. Conductivity"
   ]
  },
  {
   "cell_type": "code",
   "execution_count": 36,
   "metadata": {},
   "outputs": [
    {
     "name": "stdout",
     "output_type": "stream",
     "text": [
      "p = 4.39018e-07\n",
      "H0 ditolak, sehingga data tidak terdistribusi dengan normal\n"
     ]
    },
    {
     "data": {
      "text/plain": [
       "[<matplotlib.lines.Line2D at 0x19d28727190>]"
      ]
     },
     "execution_count": 36,
     "metadata": {},
     "output_type": "execute_result"
    },
    {
     "data": {
      "image/png": "[encoded data removed]",
      "text/plain": [
       "<Figure size 432x288 with 1 Axes>"
      ]
     },
     "metadata": {
      "needs_background": "light"
     },
     "output_type": "display_data"
    }
   ],
   "source": [
    "k, p = st.normaltest(Conductivity)\n",
    "alpha = 0.05\n",
    "print(\"p = {:g}\".format(p))\n",
    "if p < alpha:  # null hypothesis: x comes from a normal distribution\n",
    "    print(\"H0 ditolak, sehingga data tidak terdistribusi dengan normal\")\n",
    "else:\n",
    "    print(\"H0 tidak bisa ditolak, sehingga data terdistribusi dengan normal\")\n",
    "\n",
    "mu, sigma = st.norm.fit(Conductivity)\n",
    "plt.hist(Conductivity, bins = 'auto', density = True)\n",
    "xmin, xmax = plt.xlim()\n",
    "x = np.linspace(xmin, xmax, 100)\n",
    "y = st.norm.pdf(x, mu, sigma)\n",
    "plt.title(r'$\\mathrm{Histogram\\ of\\ Conductivity:}\\ \\mu=%.3f,\\ \\sigma=%.3f$' %(mu, sigma))\n",
    "plt.plot(x, y,'k',lw=4)"
   ]
  },
  {
   "cell_type": "markdown",
   "metadata": {},
   "source": [
    "### 8. OrganicCarbon"
   ]
  },
  {
   "cell_type": "code",
   "execution_count": 37,
   "metadata": {},
   "outputs": [
    {
     "name": "stdout",
     "output_type": "stream",
     "text": [
      "p = 0.88255\n",
      "H0 tidak bisa ditolak, sehingga data terdistribusi dengan normal\n"
     ]
    },
    {
     "data": {
      "text/plain": [
       "[<matplotlib.lines.Line2D at 0x19d28819cd0>]"
      ]
     },
     "execution_count": 37,
     "metadata": {},
     "output_type": "execute_result"
    },
    {
     "data": {
      "image/png": "[encoded data removed]",
      "text/plain": [
       "<Figure size 432x288 with 1 Axes>"
      ]
     },
     "metadata": {
      "needs_background": "light"
     },
     "output_type": "display_data"
    }
   ],
   "source": [
    "k, p = st.normaltest(OrganicCarbon)\n",
    "alpha = 0.05\n",
    "print(\"p = {:g}\".format(p))\n",
    "if p < alpha:  # null hypothesis: x comes from a normal distribution\n",
    "    print(\"H0 ditolak, sehingga data tidak terdistribusi dengan normal\")\n",
    "else:\n",
    "    print(\"H0 tidak bisa ditolak, sehingga data terdistribusi dengan normal\")\n",
    "\n",
    "mu, sigma = st.norm.fit(OrganicCarbon)\n",
    "plt.hist(OrganicCarbon, bins = 'auto', density = True)\n",
    "xmin, xmax = plt.xlim()\n",
    "x = np.linspace(xmin, xmax, 100)\n",
    "y = st.norm.pdf(x, mu, sigma)\n",
    "plt.title(r'$\\mathrm{Histogram\\ of\\ OrganicCarbon:}\\ \\mu=%.3f,\\ \\sigma=%.3f$' %(mu, sigma))\n",
    "plt.plot(x, y,'k',lw=4)"
   ]
  },
  {
   "cell_type": "markdown",
   "metadata": {},
   "source": [
    "### 9. Trihalomethanes"
   ]
  },
  {
   "cell_type": "code",
   "execution_count": 38,
   "metadata": {},
   "outputs": [
    {
     "name": "stdout",
     "output_type": "stream",
     "text": [
      "p = 0.10436\n",
      "H0 tidak bisa ditolak, sehingga data terdistribusi dengan normal\n"
     ]
    },
    {
     "data": {
      "text/plain": [
       "[<matplotlib.lines.Line2D at 0x19d286e0cd0>]"
      ]
     },
     "execution_count": 38,
     "metadata": {},
     "output_type": "execute_result"
    },
    {
     "data": {
      "image/png": "[encoded data removed]",
      "text/plain": [
       "<Figure size 432x288 with 1 Axes>"
      ]
     },
     "metadata": {
      "needs_background": "light"
     },
     "output_type": "display_data"
    }
   ],
   "source": [
    "k, p = st.normaltest(Trihalomethanes)\n",
    "alpha = 0.05\n",
    "print(\"p = {:g}\".format(p))\n",
    "if p < alpha:  # null hypothesis: x comes from a normal distribution\n",
    "    print(\"H0 ditolak, sehingga data tidak terdistribusi dengan normal\")\n",
    "else:\n",
    "    print(\"H0 tidak bisa ditolak, sehingga data terdistribusi dengan normal\")\n",
    "\n",
    "mu, sigma = st.norm.fit(Trihalomethanes)\n",
    "plt.hist(Trihalomethanes, bins = 'auto', density = True)\n",
    "xmin, xmax = plt.xlim()\n",
    "x = np.linspace(xmin, xmax, 100)\n",
    "y = st.norm.pdf(x, mu, sigma)\n",
    "plt.title(r'$\\mathrm{Histogram\\ of\\ Trihalomethanes:}\\ \\mu=%.3f,\\ \\sigma=%.3f$' %(mu, sigma))\n",
    "plt.plot(x, y,'k',lw=4)"
   ]
  },
  {
   "cell_type": "markdown",
   "metadata": {},
   "source": [
    "### 10. Turbidity"
   ]
  },
  {
   "cell_type": "code",
   "execution_count": 39,
   "metadata": {},
   "outputs": [
    {
     "name": "stdout",
     "output_type": "stream",
     "text": [
      "p = 0.769472\n",
      "H0 tidak bisa ditolak, sehingga data terdistribusi dengan normal\n"
     ]
    },
    {
     "data": {
      "text/plain": [
       "[<matplotlib.lines.Line2D at 0x19d28a0cf40>]"
      ]
     },
     "execution_count": 39,
     "metadata": {},
     "output_type": "execute_result"
    },
    {
     "data": {
      "image/png": "[encoded data removed]",
      "text/plain": [
       "<Figure size 432x288 with 1 Axes>"
      ]
     },
     "metadata": {
      "needs_background": "light"
     },
     "output_type": "display_data"
    }
   ],
   "source": [
    "k, p = st.normaltest(Turbidity)\n",
    "alpha = 0.05\n",
    "print(\"p = {:g}\".format(p))\n",
    "if p < alpha:  # null hypothesis: x comes from a normal distribution\n",
    "    print(\"H0 ditolak, sehingga data tidak terdistribusi dengan normal\")\n",
    "else:\n",
    "    print(\"H0 tidak bisa ditolak, sehingga data terdistribusi dengan normal\")\n",
    "\n",
    "mu, sigma = st.norm.fit(Turbidity)\n",
    "plt.hist(Turbidity, bins = 'auto', density = True)\n",
    "xmin, xmax = plt.xlim()\n",
    "x = np.linspace(xmin, xmax, 100)\n",
    "y = st.norm.pdf(x, mu, sigma)\n",
    "plt.title(r'$\\mathrm{Histogram\\ of\\ Turbidity:}\\ \\mu=%.3f,\\ \\sigma=%.3f$' %(mu, sigma))\n",
    "plt.plot(x, y,'k',lw=4)"
   ]
  },
  {
   "cell_type": "markdown",
   "metadata": {},
   "source": [
    "### 11. Potability\n",
    "Kolom potability tidak perlu dilakukan normality test karena merupakan kolom target."
   ]
  },
  {
   "cell_type": "markdown",
   "metadata": {},
   "source": [
    "## Tahap 4 - Tes Hipotesis 1 Sampel\n",
    "Melakukan test hipotesis 1 sampel dengan menuliskan 6 langkah testing dan menampilkan juga boxplotnya untuk kolom/bagian yang bersesuaian.\n",
    "\n",
    "**Enam Langkah Testing:**\n",
    "1. Tentukan Hipotesis nol (H0: θ = θ0), dimana θ bisa berupa μ, σ2, p, atau data lain berdistribusi tertentu (normal, binomial, dsc.).\n",
    "2. Pilih hipotesis alternatif H1 salah dari dari θ > θ0 , θ < θ0 , atau θ ≠ θ0.\n",
    "3. Tentukan tingkat signifikan α.\n",
    "4. Tentukan uji statistik yang sesuai dan tentukan daerah kritis.\n",
    "5. Hitung nilai uji statistik dari data sample. Hitung p-value sesuai dengan uji statistik yang digunakan.\n",
    "6. Ambil keputusan dengan TOLAK H0 jika nilai uji terletak di daerah kritis atau dengan tes signifikan, TOLAK H0 jika p-value lebih kecil dibanding tingkat signifikansi α yang diinginkan."
   ]
  },
  {
   "cell_type": "code",
   "execution_count": 40,
   "metadata": {},
   "outputs": [],
   "source": [
    "def Z_testStatistic(x̄,μ0,σ,root_n):\n",
    "    return (float)(x̄-μ0)/(σ/root_n)\n",
    "def Z_testStatistic_bigN(p̂,p0,q0,n):\n",
    "    return (float)(p̂-p0)/np.sqrt(p0*q0/n)\n",
    "def T_testStatistic(x̄,μ0,s,root_n):\n",
    "    return (float)(x̄-μ0)/(s/root_n)"
   ]
  },
  {
   "cell_type": "markdown",
   "metadata": {},
   "source": [
    "### a. Nilai rata-rata pH di atas 7?\n",
    "Asumsi sampel yang dicek sejumlah 2010 di mana 2010 data tersebut juga merupakan populasi (sampel yang dicek sekaligus populasi). Oleh karena itu, digunakan uji statistik distribusi Z untuk satu mean dengan standar deviasi populasi diketahui."
   ]
  },
  {
   "cell_type": "code",
   "execution_count": 41,
   "metadata": {},
   "outputs": [
    {
     "name": "stdout",
     "output_type": "stream",
     "text": [
      "Nilai rata-rata pH di atas 7?\n",
      "1. H0: μ=7\n",
      "2. H1: μ>7\n",
      "3. α = 0.05\n",
      "4. Uji Statistik: z=(x̄-μ0)/(σ/root_n), σ diketahui\n",
      "   Daerah Kritis: z>zα : z>1.645\n",
      "5. Komputasi\n",
      "   x̄: 7.0871927687138285 \n",
      "   root_n: 44.83302354291979 \n",
      "   σ: 1.5728029470456655 \n",
      "   μ0: 7\n",
      "   p_value: 0.006477571731867804 \n",
      "   z: 2.485\n",
      "6. Test Daerah Kritis\n",
      "   Tolak H0 karena nilai uji = 2.485>1.645 (z>zα)\n",
      "   Rata-Rata pH di atas 7\n"
     ]
    },
    {
     "data": {
      "text/plain": [
       "Text(0.5, 1.0, 'BoxPlot pH')"
      ]
     },
     "execution_count": 41,
     "metadata": {},
     "output_type": "execute_result"
    },
    {
     "data": {
      "image/png": "[encoded data removed]",
      "text/plain": [
       "<Figure size 432x576 with 1 Axes>"
      ]
     },
     "metadata": {
      "needs_background": "light"
     },
     "output_type": "display_data"
    }
   ],
   "source": [
    "print(\"Nilai rata-rata pH di atas 7?\")\n",
    "\n",
    "# Langkah 1\n",
    "H0 = \"μ=7\"\n",
    "print(\"1. H0: {}\".format(H0))\n",
    "\n",
    "# Langkah 2\n",
    "H1 = \"μ>7\"\n",
    "print(\"2. H1: {}\".format(H1))\n",
    "\n",
    "# Langkah 3\n",
    "α = 5e-2\n",
    "print(\"3. α = {}\".format(α))\n",
    "\n",
    "# Langkah 4\n",
    "zα = round(scipy.stats.norm.ppf(1-α),3)\n",
    "print(\"4. Uji Statistik: z=(x̄-μ0)/(σ/root_n), σ diketahui\")\n",
    "print(\"   Daerah Kritis: z>zα : z>{}\".format(zα))\n",
    "\n",
    "# Langkah 5\n",
    "x̄ = pH.mean()\n",
    "μ0= 7\n",
    "σ = pH.std()\n",
    "root_n = np.sqrt(len(pH))\n",
    "z = round(Z_testStatistic(x̄,μ0,σ,root_n),3)\n",
    "p_value = 1-scipy.stats.norm.cdf(z)\n",
    "print(\"5. Komputasi\")\n",
    "print(\"   x̄: {} \\n   root_n: {} \\n   σ: {} \\n   μ0: {}\".format(x̄,root_n,σ,μ0))\n",
    "print(\"   p_value: {} \\n   z: {}\".format(str(p_value),str(z)))\n",
    "\n",
    "# Langkah 6\n",
    "print(\"6. Test Daerah Kritis\")\n",
    "if (z > zα):\n",
    "    print(\"   Tolak H0 karena nilai uji = {}>{} (z>zα)\".format(str(z),str(zα)))\n",
    "    print(\"   Rata-Rata pH di atas 7\")\n",
    "else:\n",
    "    print(\"   Terima H0 karena nilai uji = {}<={} (z<=zα)\".format(str(z),str(zα)))\n",
    "    print(\"   Rata-Rata pH sama dengan 7\")\n",
    "\n",
    "# Menggambar Boxplot pH\n",
    "# Konfigurasi Boxplot\n",
    "plt.figure(figsize=(6,8))\n",
    "plt.grid()\n",
    "# Penggambaran Boxplot\n",
    "BoxPlotpH= sns.boxplot(data=pH)\n",
    "BoxPlotpH.set_title(\"BoxPlot pH\")"
   ]
  },
  {
   "cell_type": "markdown",
   "metadata": {},
   "source": [
    "### b. Nilai rata-rata Hardness tidak sama dengan 205?\n",
    "Asumsi sampel yang dicek sejumlah 2010 di mana 2010 data tersebut juga merupakan populasi (sampel yang dicek sekaligus populasi). Oleh karena itu, digunakan uji statistik distribusi Z untuk satu mean dengan standar deviasi populasi diketahui."
   ]
  },
  {
   "cell_type": "code",
   "execution_count": 42,
   "metadata": {},
   "outputs": [
    {
     "name": "stdout",
     "output_type": "stream",
     "text": [
      "Nilai rata-rata Hardness tidak sama dengan 205?\n",
      "1. H0: μ=205\n",
      "2. H1: μ≠205\n",
      "3. α = 0.05\n",
      "4. Uji Statistik: z=(x̄-μ0)/(σ/root_n), σ diketahui\n",
      "   Daerah Kritis: z>zα/2 atau z<-zα/2 : z>1.96 atau z<-1.96\n",
      "5. Komputasi\n",
      "   x̄: 195.96920903783524 \n",
      "   n: 2010 \n",
      "   root_n: 44.83302354291979 \n",
      "   σ: 32.643165859429864 \n",
      "   μ0: 205\n",
      "   p_value: 0.0 \n",
      "   z: -12.403\n",
      "6. Test Daerah Kritis\n",
      "   Tolak H0 karena nilai uji = -12.403<-1.96 (z<-zα/2)\n",
      "   Rata-rata Hardness tidak sama dengan 205\n"
     ]
    },
    {
     "data": {
      "text/plain": [
       "Text(0.5, 1.0, 'BoxPlot Hardness')"
      ]
     },
     "execution_count": 42,
     "metadata": {},
     "output_type": "execute_result"
    },
    {
     "data": {
      "image/png": "[encoded data removed]",
      "text/plain": [
       "<Figure size 432x576 with 1 Axes>"
      ]
     },
     "metadata": {
      "needs_background": "light"
     },
     "output_type": "display_data"
    }
   ],
   "source": [
    "print(\"Nilai rata-rata Hardness tidak sama dengan 205?\")\n",
    "\n",
    "# Langkah 1\n",
    "H0 = \"μ=205\"\n",
    "print(\"1. H0: {}\".format(H0))\n",
    "\n",
    "# Langkah 2\n",
    "H1 = \"μ≠205\"\n",
    "print(\"2. H1: {}\".format(H1))\n",
    "\n",
    "# Langkah 3\n",
    "α = 5e-2\n",
    "print(\"3. α = {}\".format(α))\n",
    "\n",
    "# Langkah 4\n",
    "zα_div2 = round(scipy.stats.norm.ppf(1-(α/2)),3)\n",
    "print(\"4. Uji Statistik: z=(x̄-μ0)/(σ/root_n), σ diketahui\")\n",
    "print(\"   Daerah Kritis: z>zα/2 atau z<-zα/2 : z>{} atau z<{}\".format(zα_div2,-1*zα_div2))\n",
    "\n",
    "# Langkah 5\n",
    "x̄ = Hardness.mean()\n",
    "μ0= 205\n",
    "σ = Hardness.std()\n",
    "n = len(Hardness)\n",
    "root_n = np.sqrt(n)\n",
    "z = round(Z_testStatistic(x̄,μ0,σ,root_n),3)\n",
    "p_value = 1-abs(scipy.stats.norm.cdf(z)-scipy.stats.norm.cdf(-1*z))\n",
    "print(\"5. Komputasi\")\n",
    "print(\"   x̄: {} \\n   n: {} \\n   root_n: {} \\n   σ: {} \\n   μ0: {}\".format(x̄,n,root_n,σ,μ0))\n",
    "print(\"   p_value: {} \\n   z: {}\".format(str(p_value),str(z)))\n",
    "\n",
    "# Langkah 6\n",
    "print(\"6. Test Daerah Kritis\")\n",
    "if (z > zα_div2 or z < -1*zα_div2):\n",
    "    if (z > zα_div2):\n",
    "        print(\"   Tolak H0 karena nilai uji = {}>{} (z>zα/2)\".format(z,zα_div2))\n",
    "    else:\n",
    "        print(\"   Tolak H0 karena nilai uji = {}<{} (z<-zα/2)\".format(z,-1*zα_div2))\n",
    "    print(\"   Rata-rata Hardness tidak sama dengan 205\")\n",
    "else:\n",
    "    print(\"   Terima H0 karena nilai uji = {}<{}<{} (-zα/2<z<zα/2)\".format(-1*zα_div2,z,zα_div2))\n",
    "    print(\"   Rata-rata Hardness sama dengan 205\")\n",
    "    \n",
    "# Menggambar Boxplot Hardness\n",
    "# Konfigurasi Boxplot\n",
    "plt.figure(figsize=(6,8))\n",
    "plt.grid()\n",
    "# Penggambaran Boxplot\n",
    "BoxPlotHardness= sns.boxplot(data=Hardness)\n",
    "BoxPlotHardness.set_title(\"BoxPlot Hardness\")"
   ]
  },
  {
   "cell_type": "markdown",
   "metadata": {},
   "source": [
    "### c. Nilai rata-rata 100 baris pertama kolom Solids bukan 21900?\n",
    "Asumsi sampel yang dicek sejumlah 100, yakni 100 baris pertama dari populasi yang berjumlah 2010 baris. Oleh karena itu, digunakan uji statistik distribusi t untuk satu mean dengan standar deviasi populasi diketahui."
   ]
  },
  {
   "cell_type": "code",
   "execution_count": 43,
   "metadata": {},
   "outputs": [
    {
     "name": "stdout",
     "output_type": "stream",
     "text": [
      "Nilai rata-rata 100 baris pertama kolom Solids bukan 21900?\n",
      "1. H0: μ=21900\n",
      "2. H1: μ≠21900\n",
      "3. α = 0.05\n",
      "4. Uji Statistik: z=(x̄-μ0)/(σ/root_n), σ diketahui\n",
      "   Daerah Kritis: z>zα/2 atau z<-zα/2 : z>1.96 atau z<1.96\n",
      "5. Komputasi\n",
      "   x̄: 22347.334446383426 \n",
      "   root_n: 10.0 \n",
      "   σ: 8625.397911190576 \n",
      "   μ0: 21900\n",
      "   p_value: 0.6037607412507624 \n",
      "   z: 0.519\n",
      "6. Test Daerah Kritis\n",
      "   Terima H0 karena nilai uji = -1.96<0.519<1.96 (-zα/2<z<zα/2)\n",
      "   Nilai Rata-rata 100 baris pertama kolom Solids sama dengan 21900\n"
     ]
    },
    {
     "data": {
      "text/plain": [
       "Text(0.5, 1.0, 'BoxPlot newSolids')"
      ]
     },
     "execution_count": 43,
     "metadata": {},
     "output_type": "execute_result"
    },
    {
     "data": {
      "image/png": "[encoded data removed]",
      "text/plain": [
       "<Figure size 432x576 with 1 Axes>"
      ]
     },
     "metadata": {
      "needs_background": "light"
     },
     "output_type": "display_data"
    }
   ],
   "source": [
    "print(\"Nilai rata-rata 100 baris pertama kolom Solids bukan 21900?\")\n",
    "\n",
    "# Langkah 1\n",
    "H0 = \"μ=21900\"\n",
    "print(\"1. H0: {}\".format(H0))\n",
    "\n",
    "# Langkah 2\n",
    "H1 = \"μ≠21900\"\n",
    "print(\"2. H1: {}\".format(H1))\n",
    "\n",
    "# Langkah 3\n",
    "α = 5e-2\n",
    "print(\"3. α = {}\".format(α))\n",
    "\n",
    "# Langkah 4\n",
    "zα_div2 = round(scipy.stats.norm.ppf(1-(α/2)),3)\n",
    "print(\"4. Uji Statistik: z=(x̄-μ0)/(σ/root_n), σ diketahui\")\n",
    "print(\"   Daerah Kritis: z>zα/2 atau z<-zα/2 : z>{} atau z<{}\".format(zα_div2,zα_div2))\n",
    "\n",
    "# Langkah 5\n",
    "newSolids = Solids[:100]\n",
    "x̄ = newSolids.mean()\n",
    "μ0= 21900\n",
    "σ = Solids.std()\n",
    "n = len(newSolids)\n",
    "root_n = np.sqrt(n)\n",
    "z = round(Z_testStatistic(x̄,μ0,σ,root_n),3)\n",
    "p_value = 1-abs(scipy.stats.norm.cdf(z)-scipy.stats.norm.cdf(-1*z))\n",
    "print(\"5. Komputasi\")\n",
    "print(\"   x̄: {} \\n   root_n: {} \\n   σ: {} \\n   μ0: {}\".format(x̄,root_n,σ,μ0))\n",
    "print(\"   p_value: {} \\n   z: {}\".format(str(p_value),str(z)))\n",
    "\n",
    "# Langkah 6\n",
    "print(\"6. Test Daerah Kritis\")\n",
    "if (z > zα_div2 or z < -1*zα_div2):\n",
    "    if (z > zα_div2):\n",
    "        print(\"   Tolak H0 karena nilai uji = {}>{} (z>zα/2)\".format(z,zα_div2))\n",
    "    else:\n",
    "        print(\"   Tolak H0 karena nilai uji = {}<{} (z<-zα/2)\".format(z,-1*zα_div2))\n",
    "    print(\"   Nilai Rata-rata 100 baris pertama kolom Solids tidak sama dengan 21900\")\n",
    "else:\n",
    "    print(\"   Terima H0 karena nilai uji = {}<{}<{} (-zα/2<z<zα/2)\".format(-1*zα_div2,z,zα_div2))\n",
    "    print(\"   Nilai Rata-rata 100 baris pertama kolom Solids sama dengan 21900\")\n",
    "\n",
    "# Menggambar Boxplot Solids\n",
    "# Konfigurasi Boxplot\n",
    "plt.figure(figsize=(6,8))\n",
    "plt.grid()\n",
    "# Penggambaran Boxplot\n",
    "BoxPlotSolids= sns.boxplot(data=newSolids)\n",
    "BoxPlotSolids.set_title(\"BoxPlot newSolids\")"
   ]
  },
  {
   "cell_type": "markdown",
   "metadata": {},
   "source": [
    "### d. Proporsi nilai Conductivity yang lebih dari 450 adalah tidak sama dengan 10%?\n",
    "Digunakan uji statistik berupa uji proporsi dengan n besar (binomial mendekati normal)."
   ]
  },
  {
   "cell_type": "code",
   "execution_count": 44,
   "metadata": {},
   "outputs": [
    {
     "name": "stdout",
     "output_type": "stream",
     "text": [
      "Proporsi nilai Conductivity yang lebih dari 450 adalah tidak sama dengan 10%?\n",
      "1. H0: p=0.10\n",
      "2. H1: p≠0.10\n",
      "3. α = 0.05\n",
      "4. Uji Statistik: z=(p̂-p0)/sqrt(p0*q0/n), σ diketahui\n",
      "   Daerah Kritis: z>zα/2 atau z<-zα/2 : z>1.96 atau z<1.96\n",
      "5. Komputasi\n",
      "   p̂: 0.3706467661691542 \n",
      "   p0: 0.1 \n",
      "   q0: 0.9 \n",
      "   n: 2010\n",
      "   p_value: 0.0 \n",
      "   z: 40.446\n",
      "6. Test Daerah Kritis\n",
      "   Tolak H0 karena nilai uji = 40.446>1.96 (z>zα/2)\n",
      "   Proporsi nilai Conductivity yang lebih dari 450 tidak sama dengan 10%\n"
     ]
    },
    {
     "data": {
      "text/plain": [
       "Text(0.5, 1.0, 'BoxPlot Conductivity')"
      ]
     },
     "execution_count": 44,
     "metadata": {},
     "output_type": "execute_result"
    },
    {
     "data": {
      "image/png": "[encoded data removed]",
      "text/plain": [
       "<Figure size 432x576 with 1 Axes>"
      ]
     },
     "metadata": {
      "needs_background": "light"
     },
     "output_type": "display_data"
    }
   ],
   "source": [
    "print(\"Proporsi nilai Conductivity yang lebih dari 450 adalah tidak sama dengan 10%?\")\n",
    "\n",
    "# Langkah 1\n",
    "H0 = \"p=0.10\"\n",
    "print(\"1. H0: {}\".format(H0))\n",
    "\n",
    "# Langkah 2\n",
    "H1 = \"p≠0.10\"\n",
    "print(\"2. H1: {}\".format(H1))\n",
    "\n",
    "# Langkah 3\n",
    "α = 5e-2\n",
    "print(\"3. α = {}\".format(α))\n",
    "\n",
    "# Langkah 4\n",
    "\n",
    "zα_div2 = round(scipy.stats.norm.ppf(1-(α/2)),3)\n",
    "print(\"4. Uji Statistik: z=(p̂-p0)/sqrt(p0*q0/n), σ diketahui\")\n",
    "print(\"   Daerah Kritis: z>zα/2 atau z<-zα/2 : z>{} atau z<{}\".format(zα_div2,zα_div2))\n",
    "\n",
    "# Langkah 5\n",
    "newConductivity = [dia for dia in Conductivity if dia > 450]\n",
    "p̂ = len(newConductivity)/len(Conductivity)\n",
    "p0 = 0.10\n",
    "q0 = 1-p0\n",
    "n = len(Conductivity)\n",
    "z = round(Z_testStatistic_bigN(p̂,p0,q0,n),3)\n",
    "p_value = 1-abs(scipy.stats.norm.cdf(z)-scipy.stats.norm.cdf(-1*z))\n",
    "print(\"5. Komputasi\")\n",
    "print(\"   p̂: {} \\n   p0: {} \\n   q0: {} \\n   n: {}\".format(p̂,p0,q0,n))\n",
    "print(\"   p_value: {} \\n   z: {}\".format(str(p_value),str(z)))\n",
    "\n",
    "# Langkah 6\n",
    "print(\"6. Test Daerah Kritis\")\n",
    "if (z > zα_div2 or z < -1*zα_div2):\n",
    "    if (z > zα_div2):\n",
    "        print(\"   Tolak H0 karena nilai uji = {}>{} (z>zα/2)\".format(z,zα_div2))\n",
    "    else:\n",
    "        print(\"   Tolak H0 karena nilai uji = {}<{} (z<-zα/2)\".format(z,-1*zα_div2))\n",
    "    print(\"   Proporsi nilai Conductivity yang lebih dari 450 tidak sama dengan 10%\")\n",
    "else:\n",
    "    print(\"   Terima H0 karena nilai uji = {}<{}<{} (-zα/2<z<zα/2)\".format(-1*zα_div2,z,zα_div2))\n",
    "    print(\"   Proporsi nilai Conductivity yang lebih dari 450 sama dengan 10%\")\n",
    "\n",
    "# Menggambar Boxplot Conductivity\n",
    "# Konfigurasi Boxplot\n",
    "plt.figure(figsize=(6,8))\n",
    "plt.grid()\n",
    "# Penggambaran Boxplot\n",
    "BoxPlotConductivity= sns.boxplot(data=Conductivity)\n",
    "BoxPlotConductivity.set_title(\"BoxPlot Conductivity\")"
   ]
  },
  {
   "cell_type": "markdown",
   "metadata": {},
   "source": [
    "### e. Proporsi nilai Trihalomethanes yang kurang dari 40 adalah kurang dari 5%?\n",
    "Digunakan uji statistik berupa uji proporsi dengan n besar (binomial mendekati normal)."
   ]
  },
  {
   "cell_type": "code",
   "execution_count": 45,
   "metadata": {},
   "outputs": [
    {
     "name": "stdout",
     "output_type": "stream",
     "text": [
      "Proporsi nilai Trihalomethanes yang kurang dari 40 adalah kurang dari 5%?\n",
      "1. H0: p=0.05\n",
      "2. H1: p<0.05\n",
      "3. α = 0.05\n",
      "4. Uji Statistik: z=(p̂-p0)/sqrt(p0*q0/n), σ diketahui\n",
      "   Daerah Kritis: z<-zα : z<-1.645\n",
      "5. Komputasi\n",
      "   p̂: 0.0527363184079602 \n",
      "   p0: 0.05 \n",
      "   q0: 0.95 \n",
      "   n: 2010\n",
      "   p_value: 0.7132825580297869 \n",
      "   z: 0.563\n",
      "6. Test Daerah Kritis\n",
      "   Terima H0 karena nilai uji = 0.563>=-1.645 (z>=-zα)\n",
      "   Proporsi nilai Trihalomethanes yang kurang dari 40 adalah sama dengan 5%\n"
     ]
    },
    {
     "data": {
      "text/plain": [
       "Text(0.5, 1.0, 'BoxPlot Trihalomethanes')"
      ]
     },
     "execution_count": 45,
     "metadata": {},
     "output_type": "execute_result"
    },
    {
     "data": {
      "image/png": "[encoded data removed]",
      "text/plain": [
       "<Figure size 432x576 with 1 Axes>"
      ]
     },
     "metadata": {
      "needs_background": "light"
     },
     "output_type": "display_data"
    }
   ],
   "source": [
    "print(\"Proporsi nilai Trihalomethanes yang kurang dari 40 adalah kurang dari 5%?\")\n",
    "\n",
    "# Langkah 1\n",
    "H0 = \"p=0.05\"\n",
    "print(\"1. H0: {}\".format(H0))\n",
    "\n",
    "# Langkah 2\n",
    "H1 = \"p<0.05\"\n",
    "print(\"2. H1: {}\".format(H1))\n",
    "\n",
    "# Langkah 3\n",
    "α = 5e-2\n",
    "print(\"3. α = {}\".format(α))\n",
    "\n",
    "# Langkah 4\n",
    "zα = round(scipy.stats.norm.ppf(1-α),3)\n",
    "print(\"4. Uji Statistik: z=(p̂-p0)/sqrt(p0*q0/n), σ diketahui\")\n",
    "print(\"   Daerah Kritis: z<-zα : z<{}\".format(-1*zα))\n",
    "\n",
    "# Langkah 5\n",
    "newKel = [kel for kel in Trihalomethanes if kel < 40]\n",
    "p̂ = len(newKel)/len(Trihalomethanes)\n",
    "p0 = 0.05\n",
    "q0 = 1-p0\n",
    "n = len(Trihalomethanes)\n",
    "z = round(Z_testStatistic_bigN(p̂,p0,q0,n),3)\n",
    "p_value = scipy.stats.norm.cdf(z)\n",
    "print(\"5. Komputasi\")\n",
    "print(\"   p̂: {} \\n   p0: {} \\n   q0: {} \\n   n: {}\".format(p̂,p0,q0,n))\n",
    "print(\"   p_value: {} \\n   z: {}\".format(str(p_value),str(z)))\n",
    "\n",
    "# Langkah 6\n",
    "print(\"6. Test Daerah Kritis\")\n",
    "if (z < -1*zα):\n",
    "    print(\"   Tolak H0 karena nilai uji = {}<{} (z<-zα)\".format(str(z),str(-1*zα)))\n",
    "    print(\"   Proporsi nilai Trihalomethanes yang kurang dari 40 adalah kurang dari 5%\")\n",
    "else:\n",
    "    print(\"   Terima H0 karena nilai uji = {}>={} (z>=-zα)\".format(str(z),str(-zα)))\n",
    "    print(\"   Proporsi nilai Trihalomethanes yang kurang dari 40 adalah sama dengan 5%\")\n",
    "    \n",
    "# Menggambar Boxplot Trihalomethanes\n",
    "# Konfigurasi Boxplot\n",
    "plt.figure(figsize=(6,8))\n",
    "plt.grid()\n",
    "# Penggambaran Boxplot\n",
    "BoxPlotTrihalomethanes= sns.boxplot(data=Trihalomethanes)\n",
    "BoxPlotTrihalomethanes.set_title(\"BoxPlot Trihalomethanes\")"
   ]
  },
  {
   "cell_type": "markdown",
   "metadata": {},
   "source": [
    "## Tahap 5 - Tes Hipotesis 2 Sampel\n",
    "Melakukan test hipotesis 2 sampel dengan menuliskan 6 langkah testing dan menampilkan juga boxplotnya untuk kolom/bagian yang bersesuaian.\n",
    "\n",
    "**Enam Langkah Testing:**\n",
    "1. Tentukan Hipotesis nol (H0: θ = θ0), dimana θ bisa berupa μ, σ2, p, atau data lain berdistribusi tertentu (normal, binomial, dsc.).\n",
    "2. Pilih hipotesis alternatif H1 salah dari dari θ > θ0 , θ < θ0 , atau θ ≠ θ0.\n",
    "3. Tentukan tingkat signifikan α.\n",
    "4. Tentukan uji statistik yang sesuai dan tentukan daerah kritis.\n",
    "5. Hitung nilai uji statistik dari data sample. Hitung p-value sesuai dengan uji statistik yang digunakan.\n",
    "6. Ambil keputusan dengan TOLAK H0 jika nilai uji terletak di daerah kritis atau dengan tes signifikan, TOLAK H0 jika p-value lebih kecil dibanding tingkat signifikansi α yang diinginkan."
   ]
  },
  {
   "cell_type": "code",
   "execution_count": 46,
   "metadata": {},
   "outputs": [],
   "source": [
    "def Z_testStatistic_dual(x̄1,x̄2,d0,σ1_pow2,σ2_pow2,n1,n2):\n",
    "    return (float)((x̄1-x̄2)-d0)/np.sqrt(σ1_pow2/n1+σ2_pow2/n2)\n",
    "def Z_testStatistic_dualNormal(p̂1,p̂2,p̂,q̂,n1,n2):\n",
    "    return (float)(p̂1-p̂2)/np.sqrt(p̂*q̂*(1/n1+1/n2))\n",
    "def X_testStatistic(n,s,σ0):\n",
    "    return (float)((n-1)*(s**2))/σ0**2\n",
    "def X_testStatisticDual(s1,s2):\n",
    "    return (float)(s1**2/s2**2)\n",
    "def SP(n1,n2,s1_pow2,s2_pow2):\n",
    "    return (float)(np.sqrt(((n1-1)*s1_pow2+(n2-1)*s2_pow2)/(n1+n2-2)))\n",
    "def T_testStatistic_dual(x̄1,x̄2,d0,sp,n1,n2):\n",
    "    return (float)((x̄1-x̄2)-d0)/(sp*np.sqrt(1/n1+1/n2))"
   ]
  },
  {
   "cell_type": "markdown",
   "metadata": {},
   "source": [
    "### a. Data kolom Sulfate dibagi 2 sama rata: bagian awal dan bagian akhir kolom. Benarkah rata-rata kedua bagian tersebut sama?\n",
    "Asumsi pembagian kolom Sulfate menjadi 2 akan menghasilkan dua sampel berbeda dengan tiap sampel berjumlah 1005 baris dari populasi sejumlah 2010 baris. Oleh karena itu, digunakan uji statistik distribusi z untuk dua mean dengan standar deviasi populasi diketahui."
   ]
  },
  {
   "cell_type": "code",
   "execution_count": 47,
   "metadata": {},
   "outputs": [
    {
     "name": "stdout",
     "output_type": "stream",
     "text": [
      "Data kolom Sulfate dibagi 2 sama rata: bagian awal dan bagian akhir kolom. Benarkah rata-rata kedua bagian tersebut sama?\n",
      "1. H0: μ1=μ2\n",
      "2. H1: μ1≠μ2 -> μ1-μ2≠0\n",
      "3. α = 0.05\n",
      "4. Uji Statistik: z=((x̄1-x̄2)-d0)/sqrt(σ1²/n1+σ2²/n2), σ diketahui\n",
      "   Daerah Kritis: z>zα/2 atau z<-zα/2 : z>1.96 atau z<1.96\n",
      "5. Komputasi\n",
      "   x̄1: 331.30532950549565 \n",
      "   σ1: 41.332754590968776 \n",
      "   σ1²: 1708.3966020772505 \n",
      "   n1: 1005 \n",
      "   x̄2: 335.11742332488245 \n",
      "   σ2: 41.02112948764952 \n",
      "   σ2²: 1682.7330644425087 \n",
      "   n2: 1005\n",
      "   d0: 0 \n",
      "   p_value: 0.037986534771476954 \n",
      "   z: -2.075\n",
      "6. Test Daerah Kritis\n",
      "   Tolak H0 karena nilai uji = -2.075<-1.96 (z<zα)\n",
      "   Rata-rata kedua bagian Sulfate tidak sama\n"
     ]
    },
    {
     "data": {
      "text/plain": [
       "<AxesSubplot:title={'center':'BoxPlot Sulfate1 dan Sulfate2'}, xlabel='Sulfate', ylabel='value'>"
      ]
     },
     "execution_count": 47,
     "metadata": {},
     "output_type": "execute_result"
    },
    {
     "data": {
      "image/png": "[encoded data removed]",
      "text/plain": [
       "<Figure size 432x576 with 1 Axes>"
      ]
     },
     "metadata": {
      "needs_background": "light"
     },
     "output_type": "display_data"
    }
   ],
   "source": [
    "print(\"Data kolom Sulfate dibagi 2 sama rata: bagian awal dan bagian akhir kolom. Benarkah rata-rata kedua bagian tersebut sama?\")\n",
    "\n",
    "# Langkah 1\n",
    "H0 = \"μ1=μ2\"\n",
    "print(\"1. H0: {}\".format(H0))\n",
    "\n",
    "# Langkah 2\n",
    "H1 = \"μ1≠μ2 -> μ1-μ2≠0\"\n",
    "print(\"2. H1: {}\".format(H1))\n",
    "\n",
    "# Langkah 3\n",
    "α = 5e-2\n",
    "print(\"3. α = {}\".format(α))\n",
    "\n",
    "# Langkah 4\n",
    "zα_div2 = round(st.norm.ppf(1-(α/2)),3)\n",
    "print(\"4. Uji Statistik: z=((x̄1-x̄2)-d0)/sqrt(σ1²/n1+σ2²/n2), σ diketahui\")\n",
    "print(\"   Daerah Kritis: z>zα/2 atau z<-zα/2 : z>{} atau z<{}\".format(zα_div2,zα_div2))\n",
    "\n",
    "# Langkah 5\n",
    "d0 = 0\n",
    "Sulfate1 = Sulfate[:len(Sulfate)//2]\n",
    "x̄1 = Sulfate1.mean()\n",
    "σ1 = Sulfate1.std()\n",
    "σ1_pow2 = σ1**2\n",
    "n1 = len(Sulfate1)\n",
    "Sulfate2 = Sulfate[len(Sulfate)//2:]\n",
    "Sulfate2.reset_index(inplace=True, drop=True)\n",
    "x̄2 = Sulfate2.mean()\n",
    "σ2 = Sulfate2.std()\n",
    "σ2_pow2 = σ2**2\n",
    "n2 = len(Sulfate2)\n",
    "z = round(Z_testStatistic_dual(x̄1,x̄2,d0,σ1_pow2,σ2_pow2,n1,n2),3)\n",
    "p_value = 1-abs(st.norm.cdf(z)-st.norm.cdf(-1*z))\n",
    "print(\"5. Komputasi\")\n",
    "print(\"   x̄1: {} \\n   σ1: {} \\n   σ1²: {} \\n   n1: {} \\n   x̄2: {} \\n   σ2: {} \\n   σ2²: {} \\n   n2: {}\".format(x̄1,σ1,σ1_pow2,n1,x̄2,σ2,σ2_pow2,n2))\n",
    "print(\"   d0: {} \\n   p_value: {} \\n   z: {}\".format(d0,str(p_value),str(z)))\n",
    "\n",
    "# Langkah 6\n",
    "print(\"6. Test Daerah Kritis\")\n",
    "if (z > zα_div2 or z < -1*zα_div2):\n",
    "    if (z > zα_div2):\n",
    "        print(\"   Tolak H0 karena nilai uji = {}>{} (z>zα)\".format(z,zα_div2))\n",
    "    else:\n",
    "        print(\"   Tolak H0 karena nilai uji = {}<{} (z<zα)\".format(z,-1*zα_div2))\n",
    "    print(\"   Rata-rata kedua bagian Sulfate tidak sama\")\n",
    "else:\n",
    "    print(\"   Terima H0 karena nilai uji = {}<{}<{} (-zα<z<zα)\".format(-1*zα_div2,z,zα_div2))\n",
    "    print(\"   Rata-rata kedua bagian Sulfate sama\")  \n",
    "\n",
    "# Menggambar Boxplot Sulfate1 dan Sulfate2\n",
    "# Mengubah ke dalam Bentuk Dataframe\n",
    "dfSulfate1 = pd.DataFrame(data=Sulfate1.tolist()).assign(SulfateKe=1)\n",
    "dfSulfate2 = pd.DataFrame(data=Sulfate2.tolist()).assign(SulfateKe=2)\n",
    "# Mengombinasikan Dataframe\n",
    "combine = pd.concat([dfSulfate1,dfSulfate2],sort=False)  \n",
    "merge = pd.melt(combine, id_vars=['SulfateKe'], var_name=['Sulfate'])\n",
    "merge\n",
    "# Konfigurasi Boxplot\n",
    "plt.figure(figsize=(6,8))\n",
    "plt.grid()\n",
    "# Penggambaran Boxplot Gabungan\n",
    "BoxPlotSulfatem= sns.boxplot(x=\"Sulfate\",y=\"value\",hue=\"SulfateKe\",data=merge)\n",
    "BoxPlotSulfatem.set_title(\"BoxPlot Sulfate1 dan Sulfate2\")\n",
    "BoxPlotSulfatem"
   ]
  },
  {
   "cell_type": "markdown",
   "metadata": {},
   "source": [
    "### b. Data kolom OrganicCarbon dibagi 2 sama rata: bagian awal dan bagian akhir kolom. Benarkah rata-rata bagian awal lebih besar dari pada bagian akhir sebesar 0.15?\n",
    "Asumsi pembagian kolom OrganicCarbon menjadi 2 akan menghasilkan dua sampel berbeda dengan tiap sampel berjumlah 1005 baris dari populasi sejumlah 2010 baris. Oleh karena itu, digunakan uji statistik distribusi z untuk dua mean dengan standar deviasi populasi diketahui."
   ]
  },
  {
   "cell_type": "code",
   "execution_count": 48,
   "metadata": {},
   "outputs": [
    {
     "name": "stdout",
     "output_type": "stream",
     "text": [
      "Data kolom OrganicCarbon dibagi 2 sama rata: bagian awal dan bagian akhir kolom. Benarkah rata-rata bagian awal lebih besar dari pada bagian akhir sebesar 0.15?\n",
      "1. H0: μ1-μ2=0.15\n",
      "2. H1: μ1-μ2<0.15\n",
      "3. α = 0.05\n",
      "4. Uji Statistik: z=((x̄1-x̄2)-d0)/sqrt(σ1²/n1+σ2²/n2), σ diketahui\n",
      "   Daerah Kritis: z<-zα : z<-1.645 \n",
      "5. Komputasi\n",
      "   x̄1: 14.253972723723393 \n",
      "   σ1: 3.3511620707420766 \n",
      "   σ1²: 11.230287224380323 \n",
      "   n1: 1005 \n",
      "   x̄2: 14.461907080372756 \n",
      "   σ2: 3.2985726887318214 \n",
      "   σ2²: 10.880581782847477 \n",
      "   n2: 1005\n",
      "   d0: 0.15 \n",
      "   p_value: 0.008 \n",
      "   z: -2.413\n",
      "6. Test Daerah Kritis\n",
      "   Tolak H0 karena nilai uji = -2.413<-1.645 (z<-zα)\n",
      "   Selisih rata-rata bagian awal OrganicCarbon dengan bagian akhir OrganicCarbon sebesar kurang dari 0.15\n"
     ]
    },
    {
     "data": {
      "text/plain": [
       "<AxesSubplot:title={'center':'BoxPlot OrganicCarbon1 dan OrganicCarbon2'}, xlabel='OrganicCarbon', ylabel='value'>"
      ]
     },
     "execution_count": 48,
     "metadata": {},
     "output_type": "execute_result"
    },
    {
     "data": {
      "image/png": "[encoded data removed]",
      "text/plain": [
       "<Figure size 720x576 with 1 Axes>"
      ]
     },
     "metadata": {
      "needs_background": "light"
     },
     "output_type": "display_data"
    }
   ],
   "source": [
    "print(\"Data kolom OrganicCarbon dibagi 2 sama rata: bagian awal dan bagian akhir kolom. Benarkah rata-rata bagian awal lebih besar dari pada bagian akhir sebesar 0.15?\")\n",
    "\n",
    "# Langkah 1\n",
    "H0 = \"μ1-μ2=0.15\"\n",
    "print(\"1. H0: {}\".format(H0))\n",
    "\n",
    "# Langkah 2\n",
    "H1 = \"μ1-μ2<0.15\"\n",
    "print(\"2. H1: {}\".format(H1))\n",
    "\n",
    "# Langkah 3\n",
    "α = 5e-2\n",
    "print(\"3. α = {}\".format(α))\n",
    "\n",
    "# Langkah 4\n",
    "zα = round(st.norm.ppf(1-α),3)\n",
    "print(\"4. Uji Statistik: z=((x̄1-x̄2)-d0)/sqrt(σ1²/n1+σ2²/n2), σ diketahui\")\n",
    "print(\"   Daerah Kritis: z<-zα : z<{} \".format(-1*zα))\n",
    "\n",
    "# Langkah 5\n",
    "d0 = 0.15\n",
    "OrganicCarbon1 = OrganicCarbon[:len(OrganicCarbon)//2]\n",
    "x̄1 = OrganicCarbon1.mean()\n",
    "σ1 = OrganicCarbon1.std()\n",
    "σ1_pow2 = σ1**2\n",
    "n1 = len(OrganicCarbon1)\n",
    "OrganicCarbon2 = OrganicCarbon[len(OrganicCarbon)//2:]\n",
    "OrganicCarbon2.reset_index(inplace=True, drop=True)\n",
    "x̄2 = OrganicCarbon2.mean()\n",
    "σ2 = OrganicCarbon2.std()\n",
    "σ2_pow2 =σ2**2\n",
    "n2 = len(OrganicCarbon2)\n",
    "z = round(Z_testStatistic_dual(x̄1,x̄2,d0,σ1_pow2,σ2_pow2,n1,n2),3)\n",
    "p_value = round(st.norm.cdf(z),3)\n",
    "print(\"5. Komputasi\")\n",
    "print(\"   x̄1: {} \\n   σ1: {} \\n   σ1²: {} \\n   n1: {} \\n   x̄2: {} \\n   σ2: {} \\n   σ2²: {} \\n   n2: {}\".format(x̄1,σ1,σ1_pow2,n1,x̄2,σ2,σ2_pow2,n2))\n",
    "print(\"   d0: {} \\n   p_value: {} \\n   z: {}\".format(d0,str(p_value),str(z)))\n",
    "\n",
    "# Langkah 6\n",
    "print(\"6. Test Daerah Kritis\")\n",
    "if (z < -1*zα):\n",
    "    print(\"   Tolak H0 karena nilai uji = {}<{} (z<-zα)\".format(str(z),str(-1*zα)))\n",
    "    print(\"   Selisih rata-rata bagian awal OrganicCarbon dengan bagian akhir OrganicCarbon sebesar kurang dari 0.15\")\n",
    "else:\n",
    "    print(\"   Terima H0 karena nilai uji = {}<={} (z<=zα)\".format(str(z),str(zα_div2)))\n",
    "    print(\"   Rata-rata bagian awal OrganicCarbon lebih besar dari pada bagian akhir OrganicCarbon sebesar 0.15\")  \n",
    "\n",
    "# Menggambar Boxplot OrganicCarbon1 dan OrganicCarbon2\n",
    "# Mengubah ke dalam Bentuk Dataframe\n",
    "dfOrganicCarbon1 = pd.DataFrame(data=OrganicCarbon1.tolist()).assign(OrganicCarbonKe=1)\n",
    "dfOrganicCarbon2 = pd.DataFrame(data=OrganicCarbon2.tolist()).assign(OrganicCarbonKe=2)\n",
    "# Mengombinasikan Dataframe\n",
    "combine = pd.concat([dfOrganicCarbon1,dfOrganicCarbon2],sort=False)  \n",
    "merge = pd.melt(combine, id_vars=['OrganicCarbonKe'], var_name=['OrganicCarbon'])\n",
    "# Konfigurasi Boxplot\n",
    "plt.figure(figsize=(10,8))\n",
    "plt.grid()\n",
    "# Penggambaran Boxplot Gabungan\n",
    "BoxPlotOrganicCarbonm= sns.boxplot(x=\"OrganicCarbon\",y=\"value\",hue=\"OrganicCarbonKe\",data=merge)\n",
    "BoxPlotOrganicCarbonm.set_title(\"BoxPlot OrganicCarbon1 dan OrganicCarbon2\")\n",
    "BoxPlotOrganicCarbonm"
   ]
  },
  {
   "cell_type": "markdown",
   "metadata": {},
   "source": [
    "### c. Rata-rata 100 baris pertama kolom Chloramines sama dengan 100 baris terakhirnya?\n",
    "Asumsi pembagian kolom Chloramines menjadi dua, yaitu 100 baris pertama dan 100 baris terakhir akan menghasilkan dua sampel berbeda dari populasi yang sama sejumlah 2010 baris. Oleh karena itu, digunakan uji statistik distribusi z untuk dua mean dengan standar deviasi populasi diketahui."
   ]
  },
  {
   "cell_type": "code",
   "execution_count": 49,
   "metadata": {},
   "outputs": [
    {
     "name": "stdout",
     "output_type": "stream",
     "text": [
      "Rata-rata 100 baris pertama kolom Chloramines sama dengan 100 baris terakhirnya?\n",
      "1. H0: μ1=μ2\n",
      "2. H1: μ1≠μ2 -> μ1-μ2≠0\n",
      "3. α = 0.05\n",
      "4. Uji Statistik: z=((x̄1-x̄2)-d0)/sqrt(σ1²/n1+σ2²/n2), σ diketahui\n",
      "   Daerah Kritis: z>zα/2 atau z<-zα/2 : z>1.96 atau z<1.96\n",
      "5. Komputasi\n",
      "   x̄1: 7.007771140423921 \n",
      "   σ1: 1.4808922939392726 \n",
      "   σ1²: 2.193041986248721 \n",
      "   n1: 100 \n",
      "   x̄2: 7.147197636249925 \n",
      "   σ2: 1.306806325954166 \n",
      "   σ2²: 1.707742773553826 \n",
      "   n2: 100\n",
      "   p_value: 0.4801881374515662 \n",
      "   z: -0.706\n",
      "6. Test Daerah Kritis\n",
      "   Terima H0 karena nilai uji = -1.96<-0.706<1.96 (-zα<z<zα)\n",
      "   Rata-rata 100 baris pertama kolom Chloramines sama dengan 100 baris terakhirnya\n"
     ]
    },
    {
     "data": {
      "text/plain": [
       "<AxesSubplot:title={'center':'BoxPlot Chloramines1 dan Chloramines2'}, xlabel='Chloramines', ylabel='value'>"
      ]
     },
     "execution_count": 49,
     "metadata": {},
     "output_type": "execute_result"
    },
    {
     "data": {
      "image/png": "[encoded data removed]",
      "text/plain": [
       "<Figure size 720x576 with 1 Axes>"
      ]
     },
     "metadata": {
      "needs_background": "light"
     },
     "output_type": "display_data"
    }
   ],
   "source": [
    "print(\"Rata-rata 100 baris pertama kolom Chloramines sama dengan 100 baris terakhirnya?\")\n",
    "\n",
    "# Langkah 1\n",
    "H0 = \"μ1=μ2\"\n",
    "print(\"1. H0: {}\".format(H0))\n",
    "\n",
    "# Langkah 2\n",
    "H1 = \"μ1≠μ2 -> μ1-μ2≠0\"\n",
    "print(\"2. H1: {}\".format(H1))\n",
    "\n",
    "# Langkah 3\n",
    "α = 5e-2\n",
    "print(\"3. α = {}\".format(α))\n",
    "\n",
    "# Langkah 4\n",
    "zα_div2 = round(st.norm.ppf(1-(α/2)),3)\n",
    "print(\"4. Uji Statistik: z=((x̄1-x̄2)-d0)/sqrt(σ1²/n1+σ2²/n2), σ diketahui\")\n",
    "print(\"   Daerah Kritis: z>zα/2 atau z<-zα/2 : z>{} atau z<{}\".format(zα_div2,zα_div2))\n",
    "\n",
    "# Langkah 5\n",
    "d0 = 0\n",
    "Chloramines1 = Chloramines[:100]\n",
    "x̄1 = Chloramines1.mean()\n",
    "σ1 = Chloramines1.std()\n",
    "σ1_pow2 = σ1**2\n",
    "n1 = len(Chloramines1)\n",
    "Chloramines2 = Chloramines[len(Chloramines)-100:]\n",
    "Chloramines2.reset_index(inplace=True, drop=True)\n",
    "x̄2 = Chloramines2.mean()\n",
    "σ2 = Chloramines2.std()\n",
    "σ2_pow2 = σ2**2\n",
    "n2 = len(Chloramines2)\n",
    "z = round(Z_testStatistic_dual(x̄1,x̄2,d0,σ1_pow2,σ2_pow2,n1,n2),3)\n",
    "p_value = 1-abs(st.norm.cdf(z)-st.norm.cdf(-1*z))\n",
    "print(\"5. Komputasi\")\n",
    "print(\"   x̄1: {} \\n   σ1: {} \\n   σ1²: {} \\n   n1: {} \\n   x̄2: {} \\n   σ2: {} \\n   σ2²: {} \\n   n2: {}\".format(x̄1,σ1,σ1_pow2,n1,x̄2,σ2,σ2_pow2,n2))\n",
    "print(\"   p_value: {} \\n   z: {}\".format(str(p_value),str(z)))\n",
    "\n",
    "# Langkah 6\n",
    "print(\"6. Test Daerah Kritis\")\n",
    "if (z > zα_div2 or z < -1*zα_div2):\n",
    "    if (z > zα_div2):\n",
    "        print(\"   Tolak H0 karena nilai uji = {}>{} (z>zα)\".format(z,zα_div2))\n",
    "    else:\n",
    "        print(\"   Tolak H0 karena nilai uji = {}<{} (z<-zα)\".format(z,-1*zα_div2))\n",
    "    print(\"   Rata-rata 100 baris pertama kolom Chloramines tidak sama dengan 100 baris terakhirnya\")\n",
    "else:\n",
    "    print(\"   Terima H0 karena nilai uji = {}<{}<{} (-zα<z<zα)\".format(-1*zα_div2,z,zα_div2))\n",
    "    print(\"   Rata-rata 100 baris pertama kolom Chloramines sama dengan 100 baris terakhirnya\")  \n",
    "\n",
    "# Menggambar Boxplot Chloramines1 dan Chloramines2\n",
    "# Mengubah ke dalam Bentuk Dataframe\n",
    "dfChloramines1 = pd.DataFrame(data=Chloramines1.tolist()).assign(ChloraminesKe=1)\n",
    "dfChloramines2 = pd.DataFrame(data=Chloramines2.tolist()).assign(ChloraminesKe=2)\n",
    "# Mengombinasikan Dataframe\n",
    "combine = pd.concat([dfChloramines1,dfChloramines2],sort=False)  \n",
    "merge = pd.melt(combine, id_vars=['ChloraminesKe'], var_name=['Chloramines'])\n",
    "# Konfigurasi Boxplot\n",
    "plt.figure(figsize=(10,8))\n",
    "plt.grid()\n",
    "# Penggambaran Boxplot Gabungan\n",
    "BoxPlotChloraminesm= sns.boxplot(x=\"Chloramines\",y=\"value\",hue=\"ChloraminesKe\",data=merge)\n",
    "BoxPlotChloraminesm.set_title(\"BoxPlot Chloramines1 dan Chloramines2\")\n",
    "BoxPlotChloraminesm"
   ]
  },
  {
   "cell_type": "markdown",
   "metadata": {},
   "source": [
    "### d. Proporsi nilai bagian awal Turbidity yang lebih dari 4 adalah lebih besar daripada proporsi nilai yang sama di bagian akhir Turbidity?\n",
    "Digunakan tes dua proporsi."
   ]
  },
  {
   "cell_type": "code",
   "execution_count": 50,
   "metadata": {},
   "outputs": [
    {
     "name": "stdout",
     "output_type": "stream",
     "text": [
      "Proporsi nilai bagian awal Turbidity yang lebih dari 4 adalah lebih besar daripada proporsi nilai yang sama di bagian akhir Turbidity?\n",
      "1. H0: p1=p2 -> p1-p2=0\n",
      "2. H1: p1>p2 -> p1-p2>0\n",
      "3. α = 0.05\n",
      "4. Uji Statistik: z=(p̂1-p̂2)/sqrt(p̂*q̂*(1/n1+1/n2)), σ diketahui\n",
      "   Daerah Kritis: z>zα : z>1.645\n",
      "5. Komputasi\n",
      "   n1: 1005 \n",
      "   x1: 486 \n",
      "   p̂1: 0.484 \n",
      "   n2: 1005 \n",
      "   x2: 489 \n",
      "   p̂2: 0.487 \n",
      "   p̂: 0.485 \n",
      "   q̂: 0.515\n",
      "   p_value: 0.5536940628343817 \n",
      "   z: -0.135\n",
      "6. Test Daerah Kritis\n",
      "   Terima H0 karena nilai uji = -0.135<=1.645 (z<=zα)\n",
      "   Proporsi bagian awal Turbidity yang lebih dari 4 kurang dari atau sama dengan proporsi nilai yang sama di bagian akhir Turbidity\n"
     ]
    },
    {
     "data": {
      "text/plain": [
       "<AxesSubplot:title={'center':'BoxPlot Turbidity1 dan Turbidity2'}, xlabel='Turbidity', ylabel='value'>"
      ]
     },
     "execution_count": 50,
     "metadata": {},
     "output_type": "execute_result"
    },
    {
     "data": {
      "image/png": "[encoded data removed]",
      "text/plain": [
       "<Figure size 720x576 with 1 Axes>"
      ]
     },
     "metadata": {
      "needs_background": "light"
     },
     "output_type": "display_data"
    }
   ],
   "source": [
    "print(\"Proporsi nilai bagian awal Turbidity yang lebih dari 4 adalah lebih besar daripada proporsi nilai yang sama di bagian akhir Turbidity?\")\n",
    "\n",
    "# Langkah 1\n",
    "H0 = \"p1=p2 -> p1-p2=0\"\n",
    "print(\"1. H0: {}\".format(H0))\n",
    "\n",
    "# Langkah 2\n",
    "H1 = \"p1>p2 -> p1-p2>0\"\n",
    "print(\"2. H1: {}\".format(H1))\n",
    "\n",
    "# Langkah 3\n",
    "α = 5e-2\n",
    "print(\"3. α = {}\".format(α))\n",
    "\n",
    "# Langkah 4\n",
    "zα = round(st.norm.ppf(1-α),3)\n",
    "print(\"4. Uji Statistik: z=(p̂1-p̂2)/sqrt(p̂*q̂*(1/n1+1/n2)), σ diketahui\")\n",
    "print(\"   Daerah Kritis: z>zα : z>{}\".format(zα))\n",
    "\n",
    "# Langkah 5\n",
    "Turbidity1 = Turbidity[:len(Turbidity)//2]\n",
    "Turbidity1_moreThan4 = [turbidity for turbidity in Turbidity1 if turbidity > 4]\n",
    "n1 = len(Turbidity1)\n",
    "x1 = len(Turbidity1_moreThan4)\n",
    "p̂1 = round(float(x1/n1),3)\n",
    "Turbidity2 = Turbidity[len(Turbidity)//2:]\n",
    "Turbidity2.reset_index(inplace=True, drop=True)\n",
    "Turbidity2_moreThan4 = [turbidity for turbidity in Turbidity2 if turbidity > 4]\n",
    "n2 = len(Turbidity2)\n",
    "x2 = len(Turbidity2_moreThan4)\n",
    "p̂2 = round(float(x2/n2),3)\n",
    "p̂ = round(float((x1+x2)/(n1+n2)),3)\n",
    "q̂ = 1-p̂\n",
    "z = round(Z_testStatistic_dualNormal(p̂1,p̂2,p̂,q̂,n1,n2),3)\n",
    "p_value = 1-st.norm.cdf(z)\n",
    "print(\"5. Komputasi\")\n",
    "print(\"   n1: {} \\n   x1: {} \\n   p̂1: {} \\n   n2: {} \\n   x2: {} \\n   p̂2: {} \\n   p̂: {} \\n   q̂: {}\".format(n1,x1,p̂1,n2,x2,p̂2,p̂,q̂))\n",
    "print(\"   p_value: {} \\n   z: {}\".format(str(p_value),str(z)))\n",
    "\n",
    "# Langkah 6\n",
    "print(\"6. Test Daerah Kritis\")\n",
    "if (z > zα):\n",
    "    print(\"   Tolak H0 karena nilai uji = {}>{} (z>zα)\".format(str(z),str(zα)))\n",
    "    print(\"   Proporsi bagian awal Turbidity yang lebih dari 4 lebih besar dari proporsi nilai yang sama di bagian akhir Turbidity\")\n",
    "else:\n",
    "    print(\"   Terima H0 karena nilai uji = {}<={} (z<=zα)\".format(str(z),str(zα)))\n",
    "    print(\"   Proporsi bagian awal Turbidity yang lebih dari 4 kurang dari atau sama dengan proporsi nilai yang sama di bagian akhir Turbidity\") \n",
    "\n",
    "# Menggambar Boxplot Turbidity1 dan Turbidity2\n",
    "# Mengubah ke dalam Bentuk Dataframe\n",
    "dfTurbidity1 = pd.DataFrame(data=Turbidity1.tolist()).assign(TurbidityKe=1)\n",
    "dfTurbidity2 = pd.DataFrame(data=Turbidity2.tolist()).assign(TurbidityKe=2)\n",
    "# Mengombinasikan Dataframe\n",
    "combine = pd.concat([dfTurbidity1,dfTurbidity2],sort=False)  \n",
    "merge = pd.melt(combine, id_vars=['TurbidityKe'], var_name=['Turbidity'])\n",
    "# Konfigurasi Boxplot\n",
    "plt.figure(figsize=(10,8))\n",
    "plt.grid()\n",
    "# Penggambaran Boxplot Gabungan\n",
    "BoxPlotTurbiditym= sns.boxplot(x=\"Turbidity\",y=\"value\",hue=\"TurbidityKe\",data=merge)\n",
    "BoxPlotTurbiditym.set_title(\"BoxPlot Turbidity1 dan Turbidity2\")\n",
    "BoxPlotTurbiditym"
   ]
  },
  {
   "cell_type": "markdown",
   "metadata": {},
   "source": [
    "### e. Bagian awal kolom Sulfate memiliki variansi yang sama dengan bagian akhirnya?\n",
    "Digunakan tes variansi. Pada kasus ini digunakan alpha sebesar 0.01 agar alpha/2 yang didapatkan ialah 0.005 dan terdapat pada tabel di buku referensi Walpole."
   ]
  },
  {
   "cell_type": "code",
   "execution_count": 51,
   "metadata": {},
   "outputs": [
    {
     "name": "stdout",
     "output_type": "stream",
     "text": [
      "Bagian awal kolom Sulfate memiliki variansi yang sama dengan bagian akhirnya?\n",
      "1. H0: σ1²=σ2²\n",
      "2. H1: σ1²≠σ2² -> σ1²-σ2²≠0\n",
      "3. α = 0.1\n",
      "4. Uji Statistik: z=((x̄1-x̄2)-d0)/np.sqrt(σ1²/n1+σ2²/n2), σ diketahui\n",
      "   Daerah Kritis: f>fα/2(v1,v2) atau f<f1-α/2(v1,v2) : f>1.109 atau f<0.902\n",
      "5. Komputasi\n",
      "   n1: 1005 \n",
      "   σ²1: 1708.3966020772505 \n",
      "   v1: 1004 \n",
      "   n2: 1005 \n",
      "   σ²2: 1682.7330644425087 \n",
      "   v2: 1004\n",
      "6. Test Daerah Kritis\n",
      "   Terima H0 karena nilai uji = 0.902<1.015<1.109 (-zα<z<zα)\n",
      "   Bagian awal kolom Sulfate memiliki variansi yang sama dengan bagian akhirnya\n"
     ]
    },
    {
     "data": {
      "text/plain": [
       "<AxesSubplot:title={'center':'BoxPlot Sulfate1 dan Sulfate2'}, xlabel='Sulfate', ylabel='value'>"
      ]
     },
     "execution_count": 51,
     "metadata": {},
     "output_type": "execute_result"
    },
    {
     "data": {
      "image/png": "[encoded data removed]",
      "text/plain": [
       "<Figure size 720x576 with 1 Axes>"
      ]
     },
     "metadata": {
      "needs_background": "light"
     },
     "output_type": "display_data"
    }
   ],
   "source": [
    "print(\"Bagian awal kolom Sulfate memiliki variansi yang sama dengan bagian akhirnya?\")\n",
    "\n",
    "# Langkah 1\n",
    "H0 = \"σ1²=σ2²\"\n",
    "print(\"1. H0: {}\".format(H0))\n",
    "\n",
    "# Langkah 2\n",
    "H1 = \"σ1²≠σ2² -> σ1²-σ2²≠0\"\n",
    "print(\"2. H1: {}\".format(H1))\n",
    "\n",
    "# Langkah 3\n",
    "α = 1e-1\n",
    "print(\"3. α = {}\".format(α))\n",
    "\n",
    "# Langkah 4\n",
    "Sulfate1 = Sulfate[:len(Sulfate)//2]\n",
    "Sulfate2 = Sulfate[len(Sulfate)//2:]\n",
    "Sulfate2.reset_index(inplace=True, drop=True)\n",
    "n1 = len(Sulfate1)\n",
    "n2 = len(Sulfate2)\n",
    "v1 = n1-1\n",
    "v2 = n2-1\n",
    "fα_div2 = round(st.f.ppf(q=1-α/2, dfn=v1, dfd=v2),3)\n",
    "f1_min_αdiv2 = round((1.0/round(st.f.ppf(q=1-α/2, dfn=v2, dfd=v1),3)),3)\n",
    "print(\"4. Uji Statistik: z=((x̄1-x̄2)-d0)/np.sqrt(σ1²/n1+σ2²/n2), σ diketahui\")\n",
    "print(\"   Daerah Kritis: f>fα/2(v1,v2) atau f<f1-α/2(v1,v2) : f>{} atau f<{}\".format(fα_div2,f1_min_αdiv2))\n",
    "\n",
    "# Langkah 5\n",
    "s1 = Sulfate1.std()\n",
    "s2 = Sulfate2.std()\n",
    "f = round(X_testStatisticDual(s1,s2),3)\n",
    "print(\"5. Komputasi\")\n",
    "print(\"   n1: {} \\n   σ²1: {} \\n   v1: {} \\n   n2: {} \\n   σ²2: {} \\n   v2: {}\".format(n1,s1**2,v1,n2,s2**2,v2))\n",
    "\n",
    "\n",
    "# # Langkah 6\n",
    "print(\"6. Test Daerah Kritis\")\n",
    "if (f > fα_div2 or f < f1_min_αdiv2):\n",
    "    if (f > fα_div2):\n",
    "        print(\"   Tolak H0 karena nilai uji = {}>{} (f > fα/2)\".format(f,fα_div2))\n",
    "    else:\n",
    "        print(\"   Tolak H0 karena nilai uji = {}<{} (f < f1-α/2)\".format(f,f1_min_αdiv2))\n",
    "    print(\"   Bagian awal kolom Sulfate memiliki variansi yang tidak sama dengan bagian akhirnya\")\n",
    "else:\n",
    "    print(\"   Terima H0 karena nilai uji = {}<{}<{} (-zα<z<zα)\".format(f1_min_αdiv2,f,fα_div2))\n",
    "    print(\"   Bagian awal kolom Sulfate memiliki variansi yang sama dengan bagian akhirnya\")  \n",
    "\n",
    "# Menggambar BoxPlot Sulfate1 dan Sulfate2\n",
    "# Mengubah ke dalam Bentuk Dataframe\n",
    "dfSulfate1 = pd.DataFrame(data=Sulfate1.tolist()).assign(SulfateKe=1)\n",
    "dfSulfate2 = pd.DataFrame(data=Sulfate2.tolist()).assign(SulfateKe=2)\n",
    "# Mengombinasikan Dataframe\n",
    "combine = pd.concat([dfSulfate1,dfSulfate2],sort=False)  \n",
    "merge = pd.melt(combine, id_vars=['SulfateKe'], var_name=['Sulfate'])\n",
    "# Konfigurasi Boxplot\n",
    "plt.figure(figsize=(10,8))\n",
    "plt.grid()\n",
    "# Penggambaran Boxplot Gabungan\n",
    "BoxPlotSulfatem= sns.boxplot(x=\"Sulfate\",y=\"value\",hue=\"SulfateKe\",data=merge)\n",
    "BoxPlotSulfatem.set_title(\"BoxPlot Sulfate1 dan Sulfate2\")\n",
    "BoxPlotSulfatem"
   ]
  },
  {
   "cell_type": "markdown",
   "metadata": {},
   "source": [
    "## Tahap 6 - Tes Korelasi\n",
    "Mentukan apakah setiap kolom non-target berkorelasi dengan kolom target dengan menggambarkan juga scatter plot nya. Tes korelasi dilakukan dengan menggunakan correlation test.\n",
    "\n",
    "Daftar kolom non-target adalah sebagai berikut:\n",
    "1. pH\n",
    "2. Hardness\n",
    "3. Solids\n",
    "4. Chloramines\n",
    "5. Sulfate\n",
    "6. Conductivity\n",
    "7. OrganicCarbon\n",
    "8. Trihalomethanes\n",
    "9. Turbidity\n",
    "\n",
    "Di samping itu, kolom target adalah Potability.\n",
    "\n",
    "Metode yang digunakan adalah sebagai berikut:\n",
    "\n",
    "1. Melakukan tes korelasi dengan metode Pearson dengan alpha = 0.05\n",
    "    - H0 : p = 0 (Tidak ada korelasi diantara kolom non-target dengan kolom target)\n",
    "    - H1 : p ≠ 0 (Ada korelasi antara kolom non-target dan kolom target) <br><br>\n",
    "2. Jika terdapat korelasi di antara kolom non-target dan kolom target, cari berapa koefisien korelasi di antara kedua kolom tersebut. Beberapa kesimpulan yang dapat diambil adalah sebagai berikut:\n",
    "    - Koefisien Korelasi = 1 (Strong Positive Correlation)\n",
    "    - 0 < Koefisien Korelasi < 1 (Positive Correlation)\n",
    "    - Koefisien Korelasi = 0 (No Correlation)\n",
    "    - -1 < Koefisien Korelasi < 0 (Negative Correlation)\n",
    "    - Koefisien Korelasi = -1 (Strong Negative Correlation) <br><br>\n",
    "3. Tampilkan Scatter Plot diantara dua kolom tersebut"
   ]
  },
  {
   "cell_type": "code",
   "execution_count": 52,
   "metadata": {},
   "outputs": [],
   "source": [
    "# Deklarasi kolom potability dan nilai alpha\n",
    "\n",
    "Potability = df[\"Potability\"]\n",
    "alpha = 0.05"
   ]
  },
  {
   "cell_type": "markdown",
   "metadata": {},
   "source": [
    "## 1. Tes Korelasi pH dengan Potability"
   ]
  },
  {
   "cell_type": "code",
   "execution_count": 53,
   "metadata": {},
   "outputs": [
    {
     "name": "stdout",
     "output_type": "stream",
     "text": [
      "H0 tidak bisa ditolak, sehingga tidak ada korelasi antara kolom non-target dan kolom target\n",
      "Nilai koefisien korelasi adalah 0.015475094408433492\n"
     ]
    },
    {
     "data": {
      "text/plain": [
       "<AxesSubplot:xlabel='pH', ylabel='Potability'>"
      ]
     },
     "execution_count": 53,
     "metadata": {},
     "output_type": "execute_result"
    },
    {
     "data": {
      "image/png": "[encoded data removed]",
      "text/plain": [
       "<Figure size 432x288 with 1 Axes>"
      ]
     },
     "metadata": {
      "needs_background": "light"
     },
     "output_type": "display_data"
    }
   ],
   "source": [
    "# Metode bagian 1\n",
    "stat, p = st.pearsonr(pH, Potability)\n",
    "if p < alpha:\n",
    "    print(\"H0 ditolak, sehingga ada korelasi antara kolom non-target dan kolom target\")\n",
    "else:\n",
    "    print(\"H0 tidak bisa ditolak, sehingga tidak ada korelasi antara kolom non-target dan kolom target\")\n",
    "\n",
    "# Metode bagian 2\n",
    "print(\"Nilai koefisien korelasi adalah {}\".format(pH.corr(Potability, method='pearson')))\n",
    "\n",
    "# Metode bagian 3\n",
    "df.plot(kind='scatter', x='pH', y='Potability', yticks=[0.0, 1.0, 2.0, 3.0], color='red')"
   ]
  },
  {
   "cell_type": "markdown",
   "metadata": {},
   "source": [
    "## 2. Tes Korelasi Hardness dengan Potability"
   ]
  },
  {
   "cell_type": "code",
   "execution_count": 54,
   "metadata": {},
   "outputs": [
    {
     "name": "stdout",
     "output_type": "stream",
     "text": [
      "H0 tidak bisa ditolak, sehingga tidak ada korelasi antara kolom non-target dan kolom target\n",
      "Nilai koefisien korelasi adalah -0.0014631528959479442\n"
     ]
    },
    {
     "data": {
      "text/plain": [
       "<AxesSubplot:xlabel='Hardness', ylabel='Potability'>"
      ]
     },
     "execution_count": 54,
     "metadata": {},
     "output_type": "execute_result"
    },
    {
     "data": {
      "image/png": "[encoded data removed]",
      "text/plain": [
       "<Figure size 432x288 with 1 Axes>"
      ]
     },
     "metadata": {
      "needs_background": "light"
     },
     "output_type": "display_data"
    }
   ],
   "source": [
    "# Metode bagian 1\n",
    "stat, p = st.pearsonr(Hardness, Potability)\n",
    "if p < alpha:\n",
    "    print(\"H0 ditolak, sehingga ada korelasi antara kolom non-target dan kolom target\")\n",
    "else:\n",
    "    print(\"H0 tidak bisa ditolak, sehingga tidak ada korelasi antara kolom non-target dan kolom target\")\n",
    "\n",
    "# Metode bagian 2\n",
    "print(\"Nilai koefisien korelasi adalah {}\".format(Hardness.corr(Potability, method='pearson')))\n",
    "\n",
    "# Metode bagian 3\n",
    "df.plot(kind='scatter', x='Hardness', y='Potability', yticks=[0.0, 1.0, 2.0, 3.0], color='red')"
   ]
  },
  {
   "cell_type": "markdown",
   "metadata": {},
   "source": [
    "## 3. Tes Korelasi Solids dengan Potability"
   ]
  },
  {
   "cell_type": "code",
   "execution_count": 55,
   "metadata": {},
   "outputs": [
    {
     "name": "stdout",
     "output_type": "stream",
     "text": [
      "H0 tidak bisa ditolak, sehingga tidak ada korelasi antara kolom non-target dan kolom target\n",
      "Nilai koefisien korelasi adalah 0.0389765781817347\n"
     ]
    },
    {
     "data": {
      "text/plain": [
       "<AxesSubplot:xlabel='Solids', ylabel='Potability'>"
      ]
     },
     "execution_count": 55,
     "metadata": {},
     "output_type": "execute_result"
    },
    {
     "data": {
      "image/png": "[encoded data removed]",
      "text/plain": [
       "<Figure size 432x288 with 1 Axes>"
      ]
     },
     "metadata": {
      "needs_background": "light"
     },
     "output_type": "display_data"
    }
   ],
   "source": [
    "# Metode bagian 1\n",
    "stat, p = st.pearsonr(Solids, Potability)\n",
    "if p < alpha:\n",
    "    print(\"H0 ditolak, sehingga ada korelasi antara kolom non-target dan kolom target\")\n",
    "else:\n",
    "    print(\"H0 tidak bisa ditolak, sehingga tidak ada korelasi antara kolom non-target dan kolom target\")\n",
    "\n",
    "# Metode bagian 2\n",
    "print(\"Nilai koefisien korelasi adalah {}\".format(Solids.corr(Potability, method='pearson')))\n",
    "\n",
    "# Metode bagian 3\n",
    "df.plot(kind='scatter', x='Solids', y='Potability', yticks=[0.0, 1.0, 2.0, 3.0], color='red')"
   ]
  },
  {
   "cell_type": "markdown",
   "metadata": {},
   "source": [
    "## 4. Tes Korelasi Chloramines dengan Potability"
   ]
  },
  {
   "cell_type": "code",
   "execution_count": 56,
   "metadata": {},
   "outputs": [
    {
     "name": "stdout",
     "output_type": "stream",
     "text": [
      "H0 tidak bisa ditolak, sehingga tidak ada korelasi antara kolom non-target dan kolom target\n",
      "Nilai koefisien korelasi adalah 0.020778921840524087\n"
     ]
    },
    {
     "data": {
      "text/plain": [
       "<AxesSubplot:xlabel='Chloramines', ylabel='Potability'>"
      ]
     },
     "execution_count": 56,
     "metadata": {},
     "output_type": "execute_result"
    },
    {
     "data": {
      "image/png": "[encoded data removed]",
      "text/plain": [
       "<Figure size 432x288 with 1 Axes>"
      ]
     },
     "metadata": {
      "needs_background": "light"
     },
     "output_type": "display_data"
    }
   ],
   "source": [
    "# Metode bagian 1\n",
    "stat, p = st.pearsonr(Chloramines, Potability)\n",
    "if p < alpha:\n",
    "    print(\"H0 ditolak, sehingga ada korelasi antara kolom non-target dan kolom target\")\n",
    "else:\n",
    "    print(\"H0 tidak bisa ditolak, sehingga tidak ada korelasi antara kolom non-target dan kolom target\")\n",
    "\n",
    "# Metode bagian 2\n",
    "print(\"Nilai koefisien korelasi adalah {}\".format(Chloramines.corr(Potability, method='pearson')))\n",
    "\n",
    "# Metode bagian 3\n",
    "df.plot(kind='scatter', x='Chloramines', y='Potability', yticks=[0.0, 1.0, 2.0, 3.0], color='red')"
   ]
  },
  {
   "cell_type": "markdown",
   "metadata": {},
   "source": [
    "## 5. Tes Korelasi Sulfate dengan Potability"
   ]
  },
  {
   "cell_type": "code",
   "execution_count": 57,
   "metadata": {},
   "outputs": [
    {
     "name": "stdout",
     "output_type": "stream",
     "text": [
      "H0 tidak bisa ditolak, sehingga tidak ada korelasi antara kolom non-target dan kolom target\n",
      "Nilai koefisien korelasi adalah -0.01570316441927379\n"
     ]
    },
    {
     "data": {
      "text/plain": [
       "<AxesSubplot:xlabel='Sulfate', ylabel='Potability'>"
      ]
     },
     "execution_count": 57,
     "metadata": {},
     "output_type": "execute_result"
    },
    {
     "data": {
      "image/png": "[encoded data removed]",
      "text/plain": [
       "<Figure size 432x288 with 1 Axes>"
      ]
     },
     "metadata": {
      "needs_background": "light"
     },
     "output_type": "display_data"
    }
   ],
   "source": [
    "# Metode bagian 1\n",
    "stat, p = st.pearsonr(Sulfate, Potability)\n",
    "if p < alpha:\n",
    "    print(\"H0 ditolak, sehingga ada korelasi antara kolom non-target dan kolom target\")\n",
    "else:\n",
    "    print(\"H0 tidak bisa ditolak, sehingga tidak ada korelasi antara kolom non-target dan kolom target\")\n",
    "\n",
    "# Metode bagian 2\n",
    "print(\"Nilai koefisien korelasi adalah {}\".format(Sulfate.corr(Potability, method='pearson')))\n",
    "\n",
    "# Metode bagian 3\n",
    "df.plot(kind='scatter', x='Sulfate', y='Potability', yticks=[0.0, 1.0, 2.0, 3.0], color='red')"
   ]
  },
  {
   "cell_type": "markdown",
   "metadata": {},
   "source": [
    "## 6. Tes Korelasi Conductivity dengan Potability"
   ]
  },
  {
   "cell_type": "code",
   "execution_count": 58,
   "metadata": {},
   "outputs": [
    {
     "name": "stdout",
     "output_type": "stream",
     "text": [
      "H0 tidak bisa ditolak, sehingga tidak ada korelasi antara kolom non-target dan kolom target\n",
      "Nilai koefisien korelasi adalah -0.016257120111377105\n"
     ]
    },
    {
     "data": {
      "text/plain": [
       "<AxesSubplot:xlabel='Conductivity', ylabel='Potability'>"
      ]
     },
     "execution_count": 58,
     "metadata": {},
     "output_type": "execute_result"
    },
    {
     "data": {
      "image/png": "[encoded data removed]",
      "text/plain": [
       "<Figure size 432x288 with 1 Axes>"
      ]
     },
     "metadata": {
      "needs_background": "light"
     },
     "output_type": "display_data"
    }
   ],
   "source": [
    "# Metode bagian 1\n",
    "stat, p = st.pearsonr(Conductivity, Potability)\n",
    "if p < alpha:\n",
    "    print(\"H0 ditolak, sehingga ada korelasi antara kolom non-target dan kolom target\")\n",
    "else:\n",
    "    print(\"H0 tidak bisa ditolak, sehingga tidak ada korelasi antara kolom non-target dan kolom target\")\n",
    "\n",
    "# Metode bagian 2\n",
    "print(\"Nilai koefisien korelasi adalah {}\".format(Conductivity.corr(Potability, method='pearson')))\n",
    "\n",
    "# Metode bagian 3\n",
    "df.plot(kind='scatter', x='Conductivity', y='Potability', yticks=[0.0, 1.0, 2.0, 3.0], color='red')"
   ]
  },
  {
   "cell_type": "markdown",
   "metadata": {},
   "source": [
    "## 7. Tes Korelasi OrganicCarbon dengan Potability"
   ]
  },
  {
   "cell_type": "code",
   "execution_count": 59,
   "metadata": {},
   "outputs": [
    {
     "name": "stdout",
     "output_type": "stream",
     "text": [
      "H0 tidak bisa ditolak, sehingga tidak ada korelasi antara kolom non-target dan kolom target\n",
      "Nilai koefisien korelasi adalah -0.015488461910747282\n"
     ]
    },
    {
     "data": {
      "text/plain": [
       "<AxesSubplot:xlabel='OrganicCarbon', ylabel='Potability'>"
      ]
     },
     "execution_count": 59,
     "metadata": {},
     "output_type": "execute_result"
    },
    {
     "data": {
      "image/png": "[encoded data removed]",
      "text/plain": [
       "<Figure size 432x288 with 1 Axes>"
      ]
     },
     "metadata": {
      "needs_background": "light"
     },
     "output_type": "display_data"
    }
   ],
   "source": [
    "# Metode bagian 1\n",
    "stat, p = st.pearsonr(OrganicCarbon, Potability)\n",
    "if p < alpha:\n",
    "    print(\"H0 ditolak, sehingga ada korelasi antara kolom non-target dan kolom target\")\n",
    "else:\n",
    "    print(\"H0 tidak bisa ditolak, sehingga tidak ada korelasi antara kolom non-target dan kolom target\")\n",
    "\n",
    "# Metode bagian 2\n",
    "print(\"Nilai koefisien korelasi adalah {}\".format(OrganicCarbon.corr(Potability, method='pearson')))\n",
    "\n",
    "# Metode bagian 3\n",
    "df.plot(kind='scatter', x='OrganicCarbon', y='Potability', yticks=[0.0, 1.0, 2.0, 3.0], color='red')"
   ]
  },
  {
   "cell_type": "markdown",
   "metadata": {},
   "source": [
    "## 8. Tes Korelasi Trihalomethanes dengan Potability"
   ]
  },
  {
   "cell_type": "code",
   "execution_count": 60,
   "metadata": {},
   "outputs": [
    {
     "name": "stdout",
     "output_type": "stream",
     "text": [
      "H0 tidak bisa ditolak, sehingga tidak ada korelasi antara kolom non-target dan kolom target\n",
      "Nilai koefisien korelasi adalah 0.009236711064713004\n"
     ]
    },
    {
     "data": {
      "text/plain": [
       "<AxesSubplot:xlabel='Trihalomethanes', ylabel='Potability'>"
      ]
     },
     "execution_count": 60,
     "metadata": {},
     "output_type": "execute_result"
    },
    {
     "data": {
      "image/png": "[encoded data removed]",
      "text/plain": [
       "<Figure size 432x288 with 1 Axes>"
      ]
     },
     "metadata": {
      "needs_background": "light"
     },
     "output_type": "display_data"
    }
   ],
   "source": [
    "# Metode bagian 1\n",
    "stat, p = st.pearsonr(Trihalomethanes, Potability)\n",
    "if p < alpha:\n",
    "    print(\"H0 ditolak, sehingga ada korelasi antara kolom non-target dan kolom target\")\n",
    "else:\n",
    "    print(\"H0 tidak bisa ditolak, sehingga tidak ada korelasi antara kolom non-target dan kolom target\")\n",
    "\n",
    "# Metode bagian 2\n",
    "print(\"Nilai koefisien korelasi adalah {}\".format(Trihalomethanes.corr(Potability, method='pearson')))\n",
    "\n",
    "# Metode bagian 3\n",
    "df.plot(kind='scatter', x='Trihalomethanes', y='Potability', yticks=[0.0, 1.0, 2.0, 3.0], color='red')"
   ]
  },
  {
   "cell_type": "markdown",
   "metadata": {},
   "source": [
    "## 9. Tes Korelasi Turbidity dengan Potability"
   ]
  },
  {
   "cell_type": "code",
   "execution_count": 61,
   "metadata": {},
   "outputs": [
    {
     "name": "stdout",
     "output_type": "stream",
     "text": [
      "H0 tidak bisa ditolak, sehingga tidak ada korelasi antara kolom non-target dan kolom target\n",
      "Nilai koefisien korelasi adalah 0.022331042640622675\n"
     ]
    },
    {
     "data": {
      "text/plain": [
       "<AxesSubplot:xlabel='Turbidity', ylabel='Potability'>"
      ]
     },
     "execution_count": 61,
     "metadata": {},
     "output_type": "execute_result"
    },
    {
     "data": {
      "image/png": "[encoded data removed]",
      "text/plain": [
       "<Figure size 432x288 with 1 Axes>"
      ]
     },
     "metadata": {
      "needs_background": "light"
     },
     "output_type": "display_data"
    }
   ],
   "source": [
    "# Metode bagian 1\n",
    "stat, p = st.pearsonr(Turbidity, Potability)\n",
    "if p < alpha:\n",
    "    print(\"H0 ditolak, sehingga ada korelasi antara kolom non-target dan kolom target\")\n",
    "else:\n",
    "    print(\"H0 tidak bisa ditolak, sehingga tidak ada korelasi antara kolom non-target dan kolom target\")\n",
    "\n",
    "# Metode bagian 2\n",
    "print(\"Nilai koefisien korelasi adalah {}\".format(Turbidity.corr(Potability, method='pearson')))\n",
    "\n",
    "# Metode bagian 3\n",
    "df.plot(kind='scatter', x='Turbidity', y='Potability', yticks=[0.0, 1.0, 2.0, 3.0], color='red')"
   ]
  }
 ],
 "metadata": {
  "interpreter": {
   "hash": "5b88e9787d337b96612bce53b2eec8ee00bfa94575d80b6aa93448b558ba2432"
  },
  "kernelspec": {
   "display_name": "Python 3.9.0 64-bit",
   "language": "python",
   "name": "python3"
  },
  "language_info": {
   "codemirror_mode": {
    "name": "ipython",
    "version": 3
   },
   "file_extension": ".py",
   "mimetype": "text/x-python",
   "name": "python",
   "nbconvert_exporter": "python",
   "pygments_lexer": "ipython3",
   "version": "3.9.0"
  },
  "orig_nbformat": 4
 },
 "nbformat": 4,
 "nbformat_minor": 2
}
