{
 "cells": [
  {
   "cell_type": "code",
   "execution_count": 6,
   "metadata": {},
   "outputs": [
    {
     "name": "stdout",
     "output_type": "stream",
     "text": [
      "2009\n"
     ]
    }
   ],
   "source": [
    "import pandas as pd\n",
    "\n",
    "df = pd.read_csv(\"water_potability.csv\")\n",
    "print(len(df))"
   ]
  },
  {
   "cell_type": "code",
   "execution_count": 7,
   "metadata": {},
   "outputs": [
    {
     "data": {
      "text/html": [
       "<div>\n",
       "<style scoped>\n",
       "    .dataframe tbody tr th:only-of-type {\n",
       "        vertical-align: middle;\n",
       "    }\n",
       "\n",
       "    .dataframe tbody tr th {\n",
       "        vertical-align: top;\n",
       "    }\n",
       "\n",
       "    .dataframe thead th {\n",
       "        text-align: right;\n",
       "    }\n",
       "</style>\n",
       "<table border=\"1\" class=\"dataframe\">\n",
       "  <thead>\n",
       "    <tr style=\"text-align: right;\">\n",
       "      <th></th>\n",
       "      <th>1</th>\n",
       "      <th>8.316765884214679</th>\n",
       "      <th>214.3733940856225</th>\n",
       "      <th>22018.41744077529</th>\n",
       "      <th>8.05933237743854</th>\n",
       "      <th>356.88613564305666</th>\n",
       "      <th>363.2665161642437</th>\n",
       "      <th>18.436524495493305</th>\n",
       "      <th>100.34167436508008</th>\n",
       "      <th>4.628770536837084</th>\n",
       "      <th>0</th>\n",
       "    </tr>\n",
       "  </thead>\n",
       "  <tbody>\n",
       "    <tr>\n",
       "      <th>0</th>\n",
       "      <td>2</td>\n",
       "      <td>9.092223</td>\n",
       "      <td>181.101509</td>\n",
       "      <td>17978.986339</td>\n",
       "      <td>6.546600</td>\n",
       "      <td>310.135738</td>\n",
       "      <td>398.410813</td>\n",
       "      <td>11.558279</td>\n",
       "      <td>31.997993</td>\n",
       "      <td>4.075075</td>\n",
       "      <td>0</td>\n",
       "    </tr>\n",
       "    <tr>\n",
       "      <th>1</th>\n",
       "      <td>3</td>\n",
       "      <td>5.584087</td>\n",
       "      <td>188.313324</td>\n",
       "      <td>28748.687739</td>\n",
       "      <td>7.544869</td>\n",
       "      <td>326.678363</td>\n",
       "      <td>280.467916</td>\n",
       "      <td>8.399735</td>\n",
       "      <td>54.917862</td>\n",
       "      <td>2.559708</td>\n",
       "      <td>0</td>\n",
       "    </tr>\n",
       "    <tr>\n",
       "      <th>2</th>\n",
       "      <td>4</td>\n",
       "      <td>10.223862</td>\n",
       "      <td>248.071735</td>\n",
       "      <td>28749.716544</td>\n",
       "      <td>7.513408</td>\n",
       "      <td>393.663396</td>\n",
       "      <td>283.651634</td>\n",
       "      <td>13.789695</td>\n",
       "      <td>84.603556</td>\n",
       "      <td>2.672989</td>\n",
       "      <td>0</td>\n",
       "    </tr>\n",
       "    <tr>\n",
       "      <th>3</th>\n",
       "      <td>5</td>\n",
       "      <td>8.635849</td>\n",
       "      <td>203.361523</td>\n",
       "      <td>13672.091764</td>\n",
       "      <td>4.563009</td>\n",
       "      <td>303.309771</td>\n",
       "      <td>474.607645</td>\n",
       "      <td>12.363817</td>\n",
       "      <td>62.798309</td>\n",
       "      <td>4.401425</td>\n",
       "      <td>0</td>\n",
       "    </tr>\n",
       "    <tr>\n",
       "      <th>4</th>\n",
       "      <td>6</td>\n",
       "      <td>11.180284</td>\n",
       "      <td>227.231469</td>\n",
       "      <td>25484.508491</td>\n",
       "      <td>9.077200</td>\n",
       "      <td>404.041635</td>\n",
       "      <td>563.885481</td>\n",
       "      <td>17.927806</td>\n",
       "      <td>71.976601</td>\n",
       "      <td>4.370562</td>\n",
       "      <td>0</td>\n",
       "    </tr>\n",
       "  </tbody>\n",
       "</table>\n",
       "</div>"
      ],
      "text/plain": [
       "   1  8.316765884214679  214.3733940856225  22018.41744077529  \\\n",
       "0  2           9.092223         181.101509       17978.986339   \n",
       "1  3           5.584087         188.313324       28748.687739   \n",
       "2  4          10.223862         248.071735       28749.716544   \n",
       "3  5           8.635849         203.361523       13672.091764   \n",
       "4  6          11.180284         227.231469       25484.508491   \n",
       "\n",
       "   8.05933237743854  356.88613564305666  363.2665161642437  \\\n",
       "0          6.546600          310.135738         398.410813   \n",
       "1          7.544869          326.678363         280.467916   \n",
       "2          7.513408          393.663396         283.651634   \n",
       "3          4.563009          303.309771         474.607645   \n",
       "4          9.077200          404.041635         563.885481   \n",
       "\n",
       "   18.436524495493305  100.34167436508008  4.628770536837084  0  \n",
       "0           11.558279           31.997993           4.075075  0  \n",
       "1            8.399735           54.917862           2.559708  0  \n",
       "2           13.789695           84.603556           2.672989  0  \n",
       "3           12.363817           62.798309           4.401425  0  \n",
       "4           17.927806           71.976601           4.370562  0  "
      ]
     },
     "execution_count": 7,
     "metadata": {},
     "output_type": "execute_result"
    }
   ],
   "source": [
    "df.head()"
   ]
  }
 ],
 "metadata": {
  "interpreter": {
   "hash": "5b88e9787d337b96612bce53b2eec8ee00bfa94575d80b6aa93448b558ba2432"
  },
  "kernelspec": {
   "display_name": "Python 3.9.0 64-bit",
   "language": "python",
   "name": "python3"
  },
  "language_info": {
   "codemirror_mode": {
    "name": "ipython",
    "version": 3
   },
   "file_extension": ".py",
   "mimetype": "text/x-python",
   "name": "python",
   "nbconvert_exporter": "python",
   "pygments_lexer": "ipython3",
   "version": "3.9.0"
  },
  "orig_nbformat": 4
 },
 "nbformat": 4,
 "nbformat_minor": 2
}
