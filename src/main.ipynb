{
 "cells": [
  {
   "cell_type": "code",
   "execution_count": 30,
   "metadata": {},
   "outputs": [
    {
     "data": {
      "text/html": [
       "<div>\n",
       "<style scoped>\n",
       "    .dataframe tbody tr th:only-of-type {\n",
       "        vertical-align: middle;\n",
       "    }\n",
       "\n",
       "    .dataframe tbody tr th {\n",
       "        vertical-align: top;\n",
       "    }\n",
       "\n",
       "    .dataframe thead th {\n",
       "        text-align: right;\n",
       "    }\n",
       "</style>\n",
       "<table border=\"1\" class=\"dataframe\">\n",
       "  <thead>\n",
       "    <tr style=\"text-align: right;\">\n",
       "      <th></th>\n",
       "      <th>id</th>\n",
       "      <th>pH</th>\n",
       "      <th>Hardness</th>\n",
       "      <th>Solids</th>\n",
       "      <th>Chloramines</th>\n",
       "      <th>Sulfate</th>\n",
       "      <th>Conductivity</th>\n",
       "      <th>OrganicCarbon</th>\n",
       "      <th>Trihalomethanes</th>\n",
       "      <th>Turbidity</th>\n",
       "      <th>Potability</th>\n",
       "    </tr>\n",
       "  </thead>\n",
       "  <tbody>\n",
       "    <tr>\n",
       "      <th>0</th>\n",
       "      <td>1</td>\n",
       "      <td>8.316766</td>\n",
       "      <td>214.373394</td>\n",
       "      <td>22018.417441</td>\n",
       "      <td>8.059332</td>\n",
       "      <td>356.886136</td>\n",
       "      <td>363.266516</td>\n",
       "      <td>18.436524</td>\n",
       "      <td>100.341674</td>\n",
       "      <td>4.628771</td>\n",
       "      <td>0</td>\n",
       "    </tr>\n",
       "    <tr>\n",
       "      <th>1</th>\n",
       "      <td>2</td>\n",
       "      <td>9.092223</td>\n",
       "      <td>181.101509</td>\n",
       "      <td>17978.986339</td>\n",
       "      <td>6.546600</td>\n",
       "      <td>310.135738</td>\n",
       "      <td>398.410813</td>\n",
       "      <td>11.558279</td>\n",
       "      <td>31.997993</td>\n",
       "      <td>4.075075</td>\n",
       "      <td>0</td>\n",
       "    </tr>\n",
       "    <tr>\n",
       "      <th>2</th>\n",
       "      <td>3</td>\n",
       "      <td>5.584087</td>\n",
       "      <td>188.313324</td>\n",
       "      <td>28748.687739</td>\n",
       "      <td>7.544869</td>\n",
       "      <td>326.678363</td>\n",
       "      <td>280.467916</td>\n",
       "      <td>8.399735</td>\n",
       "      <td>54.917862</td>\n",
       "      <td>2.559708</td>\n",
       "      <td>0</td>\n",
       "    </tr>\n",
       "    <tr>\n",
       "      <th>3</th>\n",
       "      <td>4</td>\n",
       "      <td>10.223862</td>\n",
       "      <td>248.071735</td>\n",
       "      <td>28749.716544</td>\n",
       "      <td>7.513408</td>\n",
       "      <td>393.663396</td>\n",
       "      <td>283.651634</td>\n",
       "      <td>13.789695</td>\n",
       "      <td>84.603556</td>\n",
       "      <td>2.672989</td>\n",
       "      <td>0</td>\n",
       "    </tr>\n",
       "    <tr>\n",
       "      <th>4</th>\n",
       "      <td>5</td>\n",
       "      <td>8.635849</td>\n",
       "      <td>203.361523</td>\n",
       "      <td>13672.091764</td>\n",
       "      <td>4.563009</td>\n",
       "      <td>303.309771</td>\n",
       "      <td>474.607645</td>\n",
       "      <td>12.363817</td>\n",
       "      <td>62.798309</td>\n",
       "      <td>4.401425</td>\n",
       "      <td>0</td>\n",
       "    </tr>\n",
       "  </tbody>\n",
       "</table>\n",
       "</div>"
      ],
      "text/plain": [
       "   id         pH    Hardness        Solids  Chloramines     Sulfate  \\\n",
       "0   1   8.316766  214.373394  22018.417441     8.059332  356.886136   \n",
       "1   2   9.092223  181.101509  17978.986339     6.546600  310.135738   \n",
       "2   3   5.584087  188.313324  28748.687739     7.544869  326.678363   \n",
       "3   4  10.223862  248.071735  28749.716544     7.513408  393.663396   \n",
       "4   5   8.635849  203.361523  13672.091764     4.563009  303.309771   \n",
       "\n",
       "   Conductivity  OrganicCarbon  Trihalomethanes  Turbidity  Potability  \n",
       "0    363.266516      18.436524       100.341674   4.628771           0  \n",
       "1    398.410813      11.558279        31.997993   4.075075           0  \n",
       "2    280.467916       8.399735        54.917862   2.559708           0  \n",
       "3    283.651634      13.789695        84.603556   2.672989           0  \n",
       "4    474.607645      12.363817        62.798309   4.401425           0  "
      ]
     },
     "execution_count": 30,
     "metadata": {},
     "output_type": "execute_result"
    }
   ],
   "source": [
    "import pandas as pd\n",
    "import numpy as np\n",
    "\n",
    "# csv data\n",
    "header_names = [\"id\", \"pH\", \"Hardness\", \"Solids\", \"Chloramines\", \"Sulfate\", \"Conductivity\", \"OrganicCarbon\", \"Trihalomethanes\", \"Turbidity\", \"Potability\"]\n",
    "df = pd.read_csv(\"water_potability.csv\", header = None, names = header_names)\n",
    "df.head()"
   ]
  },
  {
   "cell_type": "code",
   "execution_count": 31,
   "metadata": {},
   "outputs": [
    {
     "data": {
      "text/html": [
       "<div>\n",
       "<style scoped>\n",
       "    .dataframe tbody tr th:only-of-type {\n",
       "        vertical-align: middle;\n",
       "    }\n",
       "\n",
       "    .dataframe tbody tr th {\n",
       "        vertical-align: top;\n",
       "    }\n",
       "\n",
       "    .dataframe thead th {\n",
       "        text-align: right;\n",
       "    }\n",
       "</style>\n",
       "<table border=\"1\" class=\"dataframe\">\n",
       "  <thead>\n",
       "    <tr style=\"text-align: right;\">\n",
       "      <th></th>\n",
       "      <th>id</th>\n",
       "      <th>pH</th>\n",
       "      <th>Hardness</th>\n",
       "      <th>Solids</th>\n",
       "      <th>Chloramines</th>\n",
       "      <th>Sulfate</th>\n",
       "      <th>Conductivity</th>\n",
       "      <th>OrganicCarbon</th>\n",
       "      <th>Trihalomethanes</th>\n",
       "      <th>Turbidity</th>\n",
       "      <th>Potability</th>\n",
       "    </tr>\n",
       "  </thead>\n",
       "  <tbody>\n",
       "    <tr>\n",
       "      <th>count</th>\n",
       "      <td>2010.00000</td>\n",
       "      <td>2010.000000</td>\n",
       "      <td>2010.000000</td>\n",
       "      <td>2010.000000</td>\n",
       "      <td>2010.000000</td>\n",
       "      <td>2010.000000</td>\n",
       "      <td>2010.000000</td>\n",
       "      <td>2010.000000</td>\n",
       "      <td>2010.000000</td>\n",
       "      <td>2010.000000</td>\n",
       "      <td>2010.000000</td>\n",
       "    </tr>\n",
       "    <tr>\n",
       "      <th>mean</th>\n",
       "      <td>1005.50000</td>\n",
       "      <td>7.087193</td>\n",
       "      <td>195.969209</td>\n",
       "      <td>21904.673439</td>\n",
       "      <td>7.134322</td>\n",
       "      <td>333.211376</td>\n",
       "      <td>426.476708</td>\n",
       "      <td>14.357940</td>\n",
       "      <td>66.400717</td>\n",
       "      <td>3.969497</td>\n",
       "      <td>0.402985</td>\n",
       "    </tr>\n",
       "    <tr>\n",
       "      <th>std</th>\n",
       "      <td>580.38134</td>\n",
       "      <td>1.572803</td>\n",
       "      <td>32.643166</td>\n",
       "      <td>8625.397911</td>\n",
       "      <td>1.585214</td>\n",
       "      <td>41.211111</td>\n",
       "      <td>80.701872</td>\n",
       "      <td>3.325770</td>\n",
       "      <td>16.081109</td>\n",
       "      <td>0.780471</td>\n",
       "      <td>0.490620</td>\n",
       "    </tr>\n",
       "    <tr>\n",
       "      <th>min</th>\n",
       "      <td>1.00000</td>\n",
       "      <td>0.227499</td>\n",
       "      <td>73.492234</td>\n",
       "      <td>320.942611</td>\n",
       "      <td>1.390871</td>\n",
       "      <td>129.000000</td>\n",
       "      <td>201.619737</td>\n",
       "      <td>2.200000</td>\n",
       "      <td>8.577013</td>\n",
       "      <td>1.450000</td>\n",
       "      <td>0.000000</td>\n",
       "    </tr>\n",
       "    <tr>\n",
       "      <th>25%</th>\n",
       "      <td>503.25000</td>\n",
       "      <td>6.090785</td>\n",
       "      <td>176.740657</td>\n",
       "      <td>15614.412962</td>\n",
       "      <td>6.138326</td>\n",
       "      <td>307.626986</td>\n",
       "      <td>366.619219</td>\n",
       "      <td>12.122530</td>\n",
       "      <td>55.949993</td>\n",
       "      <td>3.442882</td>\n",
       "      <td>0.000000</td>\n",
       "    </tr>\n",
       "    <tr>\n",
       "      <th>50%</th>\n",
       "      <td>1005.50000</td>\n",
       "      <td>7.029490</td>\n",
       "      <td>197.203525</td>\n",
       "      <td>20926.882155</td>\n",
       "      <td>7.142014</td>\n",
       "      <td>332.214113</td>\n",
       "      <td>423.438372</td>\n",
       "      <td>14.323286</td>\n",
       "      <td>66.482041</td>\n",
       "      <td>3.967374</td>\n",
       "      <td>0.000000</td>\n",
       "    </tr>\n",
       "    <tr>\n",
       "      <th>75%</th>\n",
       "      <td>1507.75000</td>\n",
       "      <td>8.053006</td>\n",
       "      <td>216.447589</td>\n",
       "      <td>27170.534649</td>\n",
       "      <td>8.109933</td>\n",
       "      <td>359.268147</td>\n",
       "      <td>482.209772</td>\n",
       "      <td>16.683562</td>\n",
       "      <td>77.294613</td>\n",
       "      <td>4.514663</td>\n",
       "      <td>1.000000</td>\n",
       "    </tr>\n",
       "    <tr>\n",
       "      <th>max</th>\n",
       "      <td>2010.00000</td>\n",
       "      <td>14.000000</td>\n",
       "      <td>317.338124</td>\n",
       "      <td>56488.672413</td>\n",
       "      <td>13.127000</td>\n",
       "      <td>481.030642</td>\n",
       "      <td>753.342620</td>\n",
       "      <td>27.006707</td>\n",
       "      <td>124.000000</td>\n",
       "      <td>6.494749</td>\n",
       "      <td>1.000000</td>\n",
       "    </tr>\n",
       "  </tbody>\n",
       "</table>\n",
       "</div>"
      ],
      "text/plain": [
       "               id           pH     Hardness        Solids  Chloramines  \\\n",
       "count  2010.00000  2010.000000  2010.000000   2010.000000  2010.000000   \n",
       "mean   1005.50000     7.087193   195.969209  21904.673439     7.134322   \n",
       "std     580.38134     1.572803    32.643166   8625.397911     1.585214   \n",
       "min       1.00000     0.227499    73.492234    320.942611     1.390871   \n",
       "25%     503.25000     6.090785   176.740657  15614.412962     6.138326   \n",
       "50%    1005.50000     7.029490   197.203525  20926.882155     7.142014   \n",
       "75%    1507.75000     8.053006   216.447589  27170.534649     8.109933   \n",
       "max    2010.00000    14.000000   317.338124  56488.672413    13.127000   \n",
       "\n",
       "           Sulfate  Conductivity  OrganicCarbon  Trihalomethanes    Turbidity  \\\n",
       "count  2010.000000   2010.000000    2010.000000      2010.000000  2010.000000   \n",
       "mean    333.211376    426.476708      14.357940        66.400717     3.969497   \n",
       "std      41.211111     80.701872       3.325770        16.081109     0.780471   \n",
       "min     129.000000    201.619737       2.200000         8.577013     1.450000   \n",
       "25%     307.626986    366.619219      12.122530        55.949993     3.442882   \n",
       "50%     332.214113    423.438372      14.323286        66.482041     3.967374   \n",
       "75%     359.268147    482.209772      16.683562        77.294613     4.514663   \n",
       "max     481.030642    753.342620      27.006707       124.000000     6.494749   \n",
       "\n",
       "        Potability  \n",
       "count  2010.000000  \n",
       "mean      0.402985  \n",
       "std       0.490620  \n",
       "min       0.000000  \n",
       "25%       0.000000  \n",
       "50%       0.000000  \n",
       "75%       1.000000  \n",
       "max       1.000000  "
      ]
     },
     "execution_count": 31,
     "metadata": {},
     "output_type": "execute_result"
    }
   ],
   "source": [
    "# mean, standar deviasi, nilai minimum, nilai maksimum, kuartil\n",
    "df.describe()"
   ]
  },
  {
   "cell_type": "code",
   "execution_count": 32,
   "metadata": {},
   "outputs": [
    {
     "data": {
      "text/plain": [
       "id                  1005.500000\n",
       "pH                     7.029490\n",
       "Hardness             197.203525\n",
       "Solids             20926.882155\n",
       "Chloramines            7.142014\n",
       "Sulfate              332.214113\n",
       "Conductivity         423.438372\n",
       "OrganicCarbon         14.323286\n",
       "Trihalomethanes       66.482041\n",
       "Turbidity              3.967374\n",
       "Potability             0.000000\n",
       "dtype: float64"
      ]
     },
     "execution_count": 32,
     "metadata": {},
     "output_type": "execute_result"
    }
   ],
   "source": [
    "# median\n",
    "df.median()"
   ]
  },
  {
   "cell_type": "code",
   "execution_count": 33,
   "metadata": {},
   "outputs": [
    {
     "data": {
      "text/html": [
       "<div>\n",
       "<style scoped>\n",
       "    .dataframe tbody tr th:only-of-type {\n",
       "        vertical-align: middle;\n",
       "    }\n",
       "\n",
       "    .dataframe tbody tr th {\n",
       "        vertical-align: top;\n",
       "    }\n",
       "\n",
       "    .dataframe thead th {\n",
       "        text-align: right;\n",
       "    }\n",
       "</style>\n",
       "<table border=\"1\" class=\"dataframe\">\n",
       "  <thead>\n",
       "    <tr style=\"text-align: right;\">\n",
       "      <th></th>\n",
       "      <th>id</th>\n",
       "      <th>pH</th>\n",
       "      <th>Hardness</th>\n",
       "      <th>Solids</th>\n",
       "      <th>Chloramines</th>\n",
       "      <th>Sulfate</th>\n",
       "      <th>Conductivity</th>\n",
       "      <th>OrganicCarbon</th>\n",
       "      <th>Trihalomethanes</th>\n",
       "      <th>Turbidity</th>\n",
       "      <th>Potability</th>\n",
       "    </tr>\n",
       "  </thead>\n",
       "  <tbody>\n",
       "    <tr>\n",
       "      <th>0</th>\n",
       "      <td>1</td>\n",
       "      <td>0.227499</td>\n",
       "      <td>73.492234</td>\n",
       "      <td>320.942611</td>\n",
       "      <td>1.390871</td>\n",
       "      <td>129.000000</td>\n",
       "      <td>201.619737</td>\n",
       "      <td>2.200000</td>\n",
       "      <td>8.577013</td>\n",
       "      <td>1.450000</td>\n",
       "      <td>0.0</td>\n",
       "    </tr>\n",
       "    <tr>\n",
       "      <th>1</th>\n",
       "      <td>2</td>\n",
       "      <td>0.989912</td>\n",
       "      <td>77.459586</td>\n",
       "      <td>1198.943699</td>\n",
       "      <td>1.920271</td>\n",
       "      <td>180.206746</td>\n",
       "      <td>210.319182</td>\n",
       "      <td>4.371899</td>\n",
       "      <td>14.343161</td>\n",
       "      <td>1.492207</td>\n",
       "      <td>NaN</td>\n",
       "    </tr>\n",
       "    <tr>\n",
       "      <th>2</th>\n",
       "      <td>3</td>\n",
       "      <td>1.431782</td>\n",
       "      <td>81.710895</td>\n",
       "      <td>1351.906979</td>\n",
       "      <td>2.397985</td>\n",
       "      <td>182.397370</td>\n",
       "      <td>233.907965</td>\n",
       "      <td>4.466772</td>\n",
       "      <td>15.684877</td>\n",
       "      <td>1.496101</td>\n",
       "      <td>NaN</td>\n",
       "    </tr>\n",
       "    <tr>\n",
       "      <th>3</th>\n",
       "      <td>4</td>\n",
       "      <td>1.757037</td>\n",
       "      <td>94.091307</td>\n",
       "      <td>1372.091043</td>\n",
       "      <td>2.456014</td>\n",
       "      <td>187.170714</td>\n",
       "      <td>245.859632</td>\n",
       "      <td>4.861631</td>\n",
       "      <td>16.291505</td>\n",
       "      <td>1.680554</td>\n",
       "      <td>NaN</td>\n",
       "    </tr>\n",
       "    <tr>\n",
       "      <th>4</th>\n",
       "      <td>5</td>\n",
       "      <td>1.985383</td>\n",
       "      <td>94.812545</td>\n",
       "      <td>2552.962804</td>\n",
       "      <td>2.458609</td>\n",
       "      <td>187.424131</td>\n",
       "      <td>252.968328</td>\n",
       "      <td>4.966862</td>\n",
       "      <td>17.527765</td>\n",
       "      <td>1.812529</td>\n",
       "      <td>NaN</td>\n",
       "    </tr>\n",
       "    <tr>\n",
       "      <th>...</th>\n",
       "      <td>...</td>\n",
       "      <td>...</td>\n",
       "      <td>...</td>\n",
       "      <td>...</td>\n",
       "      <td>...</td>\n",
       "      <td>...</td>\n",
       "      <td>...</td>\n",
       "      <td>...</td>\n",
       "      <td>...</td>\n",
       "      <td>...</td>\n",
       "      <td>...</td>\n",
       "    </tr>\n",
       "    <tr>\n",
       "      <th>2005</th>\n",
       "      <td>2006</td>\n",
       "      <td>11.568768</td>\n",
       "      <td>286.567991</td>\n",
       "      <td>50793.898917</td>\n",
       "      <td>12.580026</td>\n",
       "      <td>458.441072</td>\n",
       "      <td>666.690618</td>\n",
       "      <td>23.569645</td>\n",
       "      <td>114.034946</td>\n",
       "      <td>6.307678</td>\n",
       "      <td>NaN</td>\n",
       "    </tr>\n",
       "    <tr>\n",
       "      <th>2006</th>\n",
       "      <td>2007</td>\n",
       "      <td>11.898078</td>\n",
       "      <td>287.975540</td>\n",
       "      <td>53735.899194</td>\n",
       "      <td>12.626900</td>\n",
       "      <td>460.107069</td>\n",
       "      <td>669.725086</td>\n",
       "      <td>23.604298</td>\n",
       "      <td>114.208671</td>\n",
       "      <td>6.357439</td>\n",
       "      <td>NaN</td>\n",
       "    </tr>\n",
       "    <tr>\n",
       "      <th>2007</th>\n",
       "      <td>2008</td>\n",
       "      <td>12.246928</td>\n",
       "      <td>300.292476</td>\n",
       "      <td>55334.702799</td>\n",
       "      <td>12.653362</td>\n",
       "      <td>475.737460</td>\n",
       "      <td>695.369528</td>\n",
       "      <td>23.917601</td>\n",
       "      <td>116.161622</td>\n",
       "      <td>6.389161</td>\n",
       "      <td>NaN</td>\n",
       "    </tr>\n",
       "    <tr>\n",
       "      <th>2008</th>\n",
       "      <td>2009</td>\n",
       "      <td>13.349889</td>\n",
       "      <td>306.627481</td>\n",
       "      <td>56351.396304</td>\n",
       "      <td>13.043806</td>\n",
       "      <td>476.539717</td>\n",
       "      <td>708.226364</td>\n",
       "      <td>24.755392</td>\n",
       "      <td>120.030077</td>\n",
       "      <td>6.494249</td>\n",
       "      <td>NaN</td>\n",
       "    </tr>\n",
       "    <tr>\n",
       "      <th>2009</th>\n",
       "      <td>2010</td>\n",
       "      <td>14.000000</td>\n",
       "      <td>317.338124</td>\n",
       "      <td>56488.672413</td>\n",
       "      <td>13.127000</td>\n",
       "      <td>481.030642</td>\n",
       "      <td>753.342620</td>\n",
       "      <td>27.006707</td>\n",
       "      <td>124.000000</td>\n",
       "      <td>6.494749</td>\n",
       "      <td>NaN</td>\n",
       "    </tr>\n",
       "  </tbody>\n",
       "</table>\n",
       "<p>2010 rows × 11 columns</p>\n",
       "</div>"
      ],
      "text/plain": [
       "        id         pH    Hardness        Solids  Chloramines     Sulfate  \\\n",
       "0        1   0.227499   73.492234    320.942611     1.390871  129.000000   \n",
       "1        2   0.989912   77.459586   1198.943699     1.920271  180.206746   \n",
       "2        3   1.431782   81.710895   1351.906979     2.397985  182.397370   \n",
       "3        4   1.757037   94.091307   1372.091043     2.456014  187.170714   \n",
       "4        5   1.985383   94.812545   2552.962804     2.458609  187.424131   \n",
       "...    ...        ...         ...           ...          ...         ...   \n",
       "2005  2006  11.568768  286.567991  50793.898917    12.580026  458.441072   \n",
       "2006  2007  11.898078  287.975540  53735.899194    12.626900  460.107069   \n",
       "2007  2008  12.246928  300.292476  55334.702799    12.653362  475.737460   \n",
       "2008  2009  13.349889  306.627481  56351.396304    13.043806  476.539717   \n",
       "2009  2010  14.000000  317.338124  56488.672413    13.127000  481.030642   \n",
       "\n",
       "      Conductivity  OrganicCarbon  Trihalomethanes  Turbidity  Potability  \n",
       "0       201.619737       2.200000         8.577013   1.450000         0.0  \n",
       "1       210.319182       4.371899        14.343161   1.492207         NaN  \n",
       "2       233.907965       4.466772        15.684877   1.496101         NaN  \n",
       "3       245.859632       4.861631        16.291505   1.680554         NaN  \n",
       "4       252.968328       4.966862        17.527765   1.812529         NaN  \n",
       "...            ...            ...              ...        ...         ...  \n",
       "2005    666.690618      23.569645       114.034946   6.307678         NaN  \n",
       "2006    669.725086      23.604298       114.208671   6.357439         NaN  \n",
       "2007    695.369528      23.917601       116.161622   6.389161         NaN  \n",
       "2008    708.226364      24.755392       120.030077   6.494249         NaN  \n",
       "2009    753.342620      27.006707       124.000000   6.494749         NaN  \n",
       "\n",
       "[2010 rows x 11 columns]"
      ]
     },
     "execution_count": 33,
     "metadata": {},
     "output_type": "execute_result"
    }
   ],
   "source": [
    "# modus\n",
    "df.mode()"
   ]
  },
  {
   "cell_type": "code",
   "execution_count": 34,
   "metadata": {},
   "outputs": [
    {
     "data": {
      "text/plain": [
       "id                  2009.000000\n",
       "pH                    13.772501\n",
       "Hardness             243.845890\n",
       "Solids             56167.729801\n",
       "Chloramines           11.736129\n",
       "Sulfate              352.030642\n",
       "Conductivity         551.722883\n",
       "OrganicCarbon         24.806707\n",
       "Trihalomethanes      115.422987\n",
       "Turbidity              5.044749\n",
       "Potability             1.000000\n",
       "dtype: float64"
      ]
     },
     "execution_count": 34,
     "metadata": {},
     "output_type": "execute_result"
    }
   ],
   "source": [
    "# range\n",
    "df.max() - df.min()"
   ]
  },
  {
   "cell_type": "code",
   "execution_count": 35,
   "metadata": {},
   "outputs": [
    {
     "data": {
      "text/plain": [
       "id                  1004.500000\n",
       "pH                     1.962221\n",
       "Hardness              39.706932\n",
       "Solids             11556.121687\n",
       "Chloramines            1.971607\n",
       "Sulfate               51.641161\n",
       "Conductivity         115.590553\n",
       "OrganicCarbon          4.561031\n",
       "Trihalomethanes       21.344620\n",
       "Turbidity              1.071781\n",
       "Potability             1.000000\n",
       "dtype: float64"
      ]
     },
     "execution_count": 35,
     "metadata": {},
     "output_type": "execute_result"
    }
   ],
   "source": [
    "# IQR\n",
    "df.quantile(0.75) - df.quantile(0.25)"
   ]
  },
  {
   "cell_type": "code",
   "execution_count": 36,
   "metadata": {},
   "outputs": [
    {
     "data": {
      "text/plain": [
       "id                 3.368425e+05\n",
       "pH                 2.473709e+00\n",
       "Hardness           1.065576e+03\n",
       "Solids             7.439749e+07\n",
       "Chloramines        2.512904e+00\n",
       "Sulfate            1.698356e+03\n",
       "Conductivity       6.512792e+03\n",
       "OrganicCarbon      1.106075e+01\n",
       "Trihalomethanes    2.586021e+02\n",
       "Turbidity          6.091350e-01\n",
       "Potability         2.407079e-01\n",
       "dtype: float64"
      ]
     },
     "execution_count": 36,
     "metadata": {},
     "output_type": "execute_result"
    }
   ],
   "source": [
    "# variansi\n",
    "df.var()"
   ]
  },
  {
   "cell_type": "code",
   "execution_count": 37,
   "metadata": {},
   "outputs": [
    {
     "data": {
      "text/plain": [
       "id                 0.000000\n",
       "pH                 0.048535\n",
       "Hardness          -0.085321\n",
       "Solids             0.591011\n",
       "Chloramines        0.013003\n",
       "Sulfate           -0.045728\n",
       "Conductivity       0.268012\n",
       "OrganicCarbon     -0.020220\n",
       "Trihalomethanes   -0.051383\n",
       "Turbidity         -0.032266\n",
       "Potability         0.395873\n",
       "dtype: float64"
      ]
     },
     "execution_count": 37,
     "metadata": {},
     "output_type": "execute_result"
    }
   ],
   "source": [
    "# skewness\n",
    "df.skew()"
   ]
  },
  {
   "cell_type": "code",
   "execution_count": 38,
   "metadata": {},
   "outputs": [
    {
     "data": {
      "text/plain": [
       "id                -1.200000\n",
       "pH                 0.626904\n",
       "Hardness           0.525480\n",
       "Solids             0.337320\n",
       "Chloramines        0.549782\n",
       "Sulfate            0.786854\n",
       "Conductivity      -0.237206\n",
       "OrganicCarbon      0.031018\n",
       "Trihalomethanes    0.223017\n",
       "Turbidity         -0.049831\n",
       "Potability        -1.845122\n",
       "dtype: float64"
      ]
     },
     "execution_count": 38,
     "metadata": {},
     "output_type": "execute_result"
    }
   ],
   "source": [
    "# kurtosis\n",
    "df.kurtosis()"
   ]
  },
  {
   "cell_type": "code",
   "execution_count": 39,
   "metadata": {},
   "outputs": [
    {
     "data": {
      "text/plain": [
       "<AxesSubplot:ylabel='Frequency'>"
      ]
     },
     "execution_count": 39,
     "metadata": {},
     "output_type": "execute_result"
    },
    {
     "data": {
      "image/png": "[encoded data removed]",
      "text/plain": [
       "<Figure size 432x288 with 1 Axes>"
      ]
     },
     "metadata": {
      "needs_background": "light"
     },
     "output_type": "display_data"
    }
   ],
   "source": [
    "# Histogram dan boxplot tiap kolom\n",
    "\n",
    "df[\"pH\"].plot(kind = \"hist\")"
   ]
  },
  {
   "cell_type": "code",
   "execution_count": 40,
   "metadata": {},
   "outputs": [
    {
     "data": {
      "text/plain": [
       "<AxesSubplot:>"
      ]
     },
     "execution_count": 40,
     "metadata": {},
     "output_type": "execute_result"
    },
    {
     "data": {
      "image/png": "[encoded data removed]",
      "text/plain": [
       "<Figure size 432x288 with 1 Axes>"
      ]
     },
     "metadata": {
      "needs_background": "light"
     },
     "output_type": "display_data"
    }
   ],
   "source": [
    "df.boxplot(column = [\"pH\"])"
   ]
  },
  {
   "cell_type": "code",
   "execution_count": 41,
   "metadata": {},
   "outputs": [
    {
     "data": {
      "text/plain": [
       "<AxesSubplot:ylabel='Frequency'>"
      ]
     },
     "execution_count": 41,
     "metadata": {},
     "output_type": "execute_result"
    },
    {
     "data": {
      "image/png": "[encoded data removed]",
      "text/plain": [
       "<Figure size 432x288 with 1 Axes>"
      ]
     },
     "metadata": {
      "needs_background": "light"
     },
     "output_type": "display_data"
    }
   ],
   "source": [
    "df[\"Hardness\"].plot(kind = \"hist\")"
   ]
  },
  {
   "cell_type": "code",
   "execution_count": 42,
   "metadata": {},
   "outputs": [
    {
     "data": {
      "text/plain": [
       "<AxesSubplot:>"
      ]
     },
     "execution_count": 42,
     "metadata": {},
     "output_type": "execute_result"
    },
    {
     "data": {
      "image/png": "[encoded data removed]",
      "text/plain": [
       "<Figure size 432x288 with 1 Axes>"
      ]
     },
     "metadata": {
      "needs_background": "light"
     },
     "output_type": "display_data"
    }
   ],
   "source": [
    "df.boxplot(column = [\"Hardness\"])"
   ]
  },
  {
   "cell_type": "code",
   "execution_count": 43,
   "metadata": {},
   "outputs": [
    {
     "data": {
      "text/plain": [
       "<AxesSubplot:ylabel='Frequency'>"
      ]
     },
     "execution_count": 43,
     "metadata": {},
     "output_type": "execute_result"
    },
    {
     "data": {
      "image/png": "[encoded data removed]",
      "text/plain": [
       "<Figure size 432x288 with 1 Axes>"
      ]
     },
     "metadata": {
      "needs_background": "light"
     },
     "output_type": "display_data"
    }
   ],
   "source": [
    "df[\"Solids\"].plot(kind = \"hist\")"
   ]
  },
  {
   "cell_type": "code",
   "execution_count": 44,
   "metadata": {},
   "outputs": [
    {
     "data": {
      "text/plain": [
       "<AxesSubplot:>"
      ]
     },
     "execution_count": 44,
     "metadata": {},
     "output_type": "execute_result"
    },
    {
     "data": {
      "image/png": "[encoded data removed]",
      "text/plain": [
       "<Figure size 432x288 with 1 Axes>"
      ]
     },
     "metadata": {
      "needs_background": "light"
     },
     "output_type": "display_data"
    }
   ],
   "source": [
    "df.boxplot(column = [\"Solids\"])"
   ]
  },
  {
   "cell_type": "code",
   "execution_count": 45,
   "metadata": {},
   "outputs": [
    {
     "data": {
      "text/plain": [
       "<AxesSubplot:ylabel='Frequency'>"
      ]
     },
     "execution_count": 45,
     "metadata": {},
     "output_type": "execute_result"
    },
    {
     "data": {
      "image/png": "[encoded data removed]",
      "text/plain": [
       "<Figure size 432x288 with 1 Axes>"
      ]
     },
     "metadata": {
      "needs_background": "light"
     },
     "output_type": "display_data"
    }
   ],
   "source": [
    "df[\"Chloramines\"].plot(kind = \"hist\")"
   ]
  },
  {
   "cell_type": "code",
   "execution_count": null,
   "metadata": {},
   "outputs": [],
   "source": [
    "df.boxplot(column = [\"Chloramines\"])"
   ]
  }
 ],
 "metadata": {
  "interpreter": {
   "hash": "5b88e9787d337b96612bce53b2eec8ee00bfa94575d80b6aa93448b558ba2432"
  },
  "kernelspec": {
   "display_name": "Python 3.9.0 64-bit",
   "language": "python",
   "name": "python3"
  },
  "language_info": {
   "codemirror_mode": {
    "name": "ipython",
    "version": 3
   },
   "file_extension": ".py",
   "mimetype": "text/x-python",
   "name": "python",
   "nbconvert_exporter": "python",
   "pygments_lexer": "ipython3",
   "version": "3.9.0"
  },
  "orig_nbformat": 4
 },
 "nbformat": 4,
 "nbformat_minor": 2
}
